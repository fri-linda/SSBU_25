{
 "cells": [
  {
   "metadata": {},
   "cell_type": "markdown",
   "source": [
    "## Zadanie 1 (5b)\n",
    "\n",
    "V tomto zadaní budete pracovať s datasetom Heart Failure Clinical Records, ktorý obsahuje záznamy pacientov so zlyhaním srdca, zozbierané počas obdobia ich sledovania.\n",
    "\n",
    "Dataset je dostupný online: https://archive.ics.uci.edu/dataset/519/heart+failure+clinical+records\n",
    "\n",
    "Na stránke nájdete aj doplňujúce informácie o premenných, ktoré dataset obsahuje. (Odporúčam prečítať :) )\n",
    "\n",
    "**Body dostanete za odpovede na zvýraznené otázky**\n"
   ],
   "id": "cfe683bbf48fb4b5"
  },
  {
   "metadata": {},
   "cell_type": "markdown",
   "source": "",
   "id": "d69d835c6c603b20"
  },
  {
   "metadata": {},
   "cell_type": "markdown",
   "source": "### Úloha 1 (1b)",
   "id": "7b66e812f42cdf22"
  },
  {
   "metadata": {},
   "cell_type": "markdown",
   "source": "Načítajte dataset do premennej `data_hf`.",
   "id": "be73985981c26b2"
  },
  {
   "metadata": {},
   "cell_type": "code",
   "outputs": [],
   "execution_count": null,
   "source": [
    "import pandas as pd\n",
    "data_hf = pd.read_csv(\"heart_failure_clinical_records_dataset.csv\")\n",
    "data_hf"
   ],
   "id": "c24cc569cd4fcb61"
  },
  {
   "metadata": {},
   "cell_type": "markdown",
   "source": "   **Obsahuje dataset chýbajúce hodnoty (NA) ?**",
   "id": "91d00039769750a6"
  },
  {
   "metadata": {},
   "cell_type": "code",
   "outputs": [],
   "execution_count": null,
   "source": "print(data_hf.isnull().sum())",
   "id": "6cec50982359b20a"
  },
  {
   "metadata": {},
   "cell_type": "markdown",
   "source": [
    "**Aký typ majú vybrané premenné v datasete ? (numerické/kategorické)** (Ak by ste si pri niektorých premenných neboli istí, zdôvodnite svoju odpoveď.)\n",
    "\n",
    "- age\n",
    "- anaemia \n",
    "- high_blood_pressure\n",
    "- serum_sodium\n",
    "- death_event"
   ],
   "id": "99f378f473bc7cf9"
  },
  {
   "metadata": {},
   "cell_type": "code",
   "outputs": [],
   "execution_count": null,
   "source": [
    "columns = [\"age\",\"anaemia\",\"high_blood_pressure\",\"serum_sodium\",\"DEATH_EVENT\"]\n",
    "print(data_hf[columns].dtypes)"
   ],
   "id": "3c2951c8e35eff74"
  },
  {
   "metadata": {},
   "cell_type": "markdown",
   "source": "**Obsahuje dataset duplicitné záznamy?**",
   "id": "b22b5ff8816e58e2"
  },
  {
   "metadata": {},
   "cell_type": "code",
   "outputs": [],
   "execution_count": null,
   "source": "print(data_hf.duplicated().sum())",
   "id": "b9ac8978ffbf5584"
  },
  {
   "metadata": {},
   "cell_type": "markdown",
   "source": [
    "### Úloha 2 (1b)\n",
    "\n",
    "Skúmajte premennú pohlavie ('sex'). Premenná je kódovaná hodnotami 0 a 1. ( 0 = žena, 1 = muž)"
   ],
   "id": "f54c32635c89ac74"
  },
  {
   "metadata": {},
   "cell_type": "code",
   "outputs": [],
   "execution_count": null,
   "source": "data_hf[\"sex\"]",
   "id": "da39b5553bd07204"
  },
  {
   "metadata": {},
   "cell_type": "markdown",
   "source": "**Koľko záznamov mužov a žien obsahuje dataset?**",
   "id": "4c6f88af103e0a5f"
  },
  {
   "metadata": {},
   "cell_type": "code",
   "outputs": [],
   "execution_count": null,
   "source": [
    "print(\"Pocet muzov: \", (data_hf[\"sex\"] == 1).sum())\n",
    "print(\"Pocet zien: \", (data_hf[\"sex\"] == 0).sum())"
   ],
   "id": "b9bfae6dd1ff1518"
  },
  {
   "metadata": {},
   "cell_type": "markdown",
   "source": "**Koľko mužov a žien je nefajčiarov ? (0 = nefajčiar, 1 = fajčiar)**",
   "id": "bcaedc0f53a3cded"
  },
  {
   "metadata": {},
   "cell_type": "code",
   "outputs": [],
   "execution_count": null,
   "source": [
    "print(\"Pocet muzov nefajciarov: \", ((data_hf[\"sex\"] == 1) & (data_hf[\"smoking\"] == 0)).sum())\n",
    "print(\"Pocet zien nefajciarov: \", ((data_hf[\"sex\"] == 0) & (data_hf[\"smoking\"] == 0)).sum())"
   ],
   "id": "72119eb42b92a728"
  },
  {
   "metadata": {},
   "cell_type": "markdown",
   "source": [
    "### Úloha 3 (1b)\n",
    "\n",
    "Popíšte premennú vek ('age')."
   ],
   "id": "4230fc834374f654"
  },
  {
   "metadata": {},
   "cell_type": "code",
   "outputs": [],
   "execution_count": null,
   "source": "print(data_hf[\"age\"].describe())",
   "id": "57e454138ae46be6"
  },
  {
   "metadata": {},
   "cell_type": "markdown",
   "source": "**Aký je minimálny, maximálny a priemerný vek pacientov v datasete?**",
   "id": "5a6ee7e2e1753574"
  },
  {
   "metadata": {},
   "cell_type": "code",
   "outputs": [],
   "execution_count": null,
   "source": [
    "print(\"Min \", data_hf[\"age\"].min())\n",
    "print(\"Max \", data_hf[\"age\"].max())\n",
    "print(\"Mean \", data_hf[\"age\"].mean())"
   ],
   "id": "a3b61dfd2fffb476"
  },
  {
   "metadata": {},
   "cell_type": "markdown",
   "source": "**Z akého veku je v datasete najviac záznamov?**",
   "id": "c50ca9cfac5c4b91"
  },
  {
   "metadata": {},
   "cell_type": "code",
   "outputs": [],
   "execution_count": null,
   "source": [
    "#data_hf[\"age\"].value_counts().head(1)\n",
    "\n",
    "most_common_age = data_hf[\"age\"].value_counts().idxmax()\n",
    "print(most_common_age)"
   ],
   "id": "357e9e08420c6da9"
  },
  {
   "metadata": {},
   "cell_type": "markdown",
   "source": [
    "### Úloha 4 (1b)\n",
    "\n",
    "Pridajte do datasetu novú premennú s názvom `risk`, ktorá bude predstavovať riziko úmrtia pacienta po zlyhaní srdca. Táto premenná bude kategorická a bude obsahovať hodnoty 'Low' a 'High'. \n",
    "Premennú vytvorte na základe if-else rozhodovania podľa premenných 'age' a 'serum_creatinine':\n",
    "\n",
    "- Ak je vek pacienta väčší ako 50 a zároveň level kreatinínu v krvnom sére ('serum_creatinine') je väčší ako 1.2 mg/dL, tak hodnota premennej 'Risk' je 'High'.\n",
    "- V opačnom prípade je hodnota 'Low'\n",
    "\n",
    "Hint: môžete použiť metódu `apply` na vytvorenie novej premennej, v ktorej použijete lambda funkciu na definovanie podmienok."
   ],
   "id": "98c2a55244534484"
  },
  {
   "metadata": {},
   "cell_type": "code",
   "outputs": [],
   "execution_count": null,
   "source": [
    "import matplotlib.pyplot as plt\n",
    "# Add the 'risk' variable\n",
    "data_hf['risk'] = data_hf.apply(lambda row: 'High' if row['age'] > 50 and row['serum_creatinine'] > 1.2 else 'Low', axis=1)\n",
    "\n",
    "# Visualize high risk by age\n",
    "\n",
    "\n",
    "high_risk = data_hf[data_hf['risk'] == 'High']\n",
    "plt.hist(high_risk['age'], bins='auto')\n",
    "plt.title('High Risk by Age')\n",
    "plt.xlabel('Age')\n",
    "plt.ylabel('Frequency')\n",
    "plt.show()"
   ],
   "id": "661ef7c3fabb880d"
  },
  {
   "metadata": {},
   "cell_type": "markdown",
   "source": [
    "Vizualizujte vysoké riziko úmrtia pre jednotlivé vekové skupiny histogramom:\n",
    "\n",
    "Hint: Použite metódu `hist` z knižnice `matplotlib.pyplot` na vizualizáciu distribúcie veku pre pacientov s vysokým rizikom úmrtia."
   ],
   "id": "f566cc472195788a"
  },
  {
   "metadata": {},
   "cell_type": "code",
   "outputs": [],
   "execution_count": null,
   "source": [
    "import matplotlib.pyplot as plt\n",
    "\n",
    "# Filtrovanie pacientov s vysokým rizikom úmrtia (death_event = 1)\n",
    "high_risk_patients = data_hf[data_hf[\"DEATH_EVENT\"] == 1][\"age\"]\n",
    "\n",
    "# Vykreslenie histogramu\n",
    "plt.hist(high_risk_patients, bins=10, edgecolor='black', alpha=0.7)\n",
    "plt.xlabel(\"Vek\")\n",
    "plt.ylabel(\"Počet pacientov\")\n",
    "plt.title(\"Distribúcia veku pacientov s vysokým rizikom úmrtia\")\n",
    "plt.show()"
   ],
   "id": "ee727f1305fedc8e"
  },
  {
   "metadata": {},
   "cell_type": "markdown",
   "source": "**V akom veku je riziko zlyhania srdca najväčšie?**",
   "id": "4e57a487157a66bc"
  },
  {
   "metadata": {},
   "cell_type": "code",
   "outputs": [],
   "execution_count": null,
   "source": [
    "highest_risk_age = data_hf[data_hf[\"DEATH_EVENT\"] == 1][\"age\"].value_counts().idxmax()\n",
    "print(\"Vek s najväčším rizikom zlyhania srdca:\", highest_risk_age)"
   ],
   "id": "1b101a95b0a1ac0c"
  },
  {
   "metadata": {},
   "cell_type": "markdown",
   "source": "**Koľko záznamov (približne) je v datasete v tejto vekovej kategórii?**",
   "id": "16769f29d5a5920e"
  },
  {
   "metadata": {},
   "cell_type": "code",
   "outputs": [],
   "execution_count": null,
   "source": "data_hf[data_hf[\"age\"] == 60].shape[0]",
   "id": "f67e1635a739aa6c"
  },
  {
   "metadata": {},
   "cell_type": "markdown",
   "source": [
    "### Úloha 5 (1b)\n",
    "\n",
    "Analyzujte koreláciu medzi všetkými atribútmi tohto datasetu (napr. vytvorením correlation plot)\n",
    "\n",
    "Hint: Nenumerické atribúty môžete pred vytvorením korelačnej matice odstrániť.\n"
   ],
   "id": "4e77c0c6fc3bd2a"
  },
  {
   "metadata": {},
   "cell_type": "code",
   "outputs": [],
   "execution_count": null,
   "source": [
    "import pandas as pd\n",
    "import seaborn as sns\n",
    "import matplotlib.pyplot as plt\n",
    "\n",
    "# Odstrániť nenumerické stĺpce\n",
    "data_numeric = data_hf.select_dtypes(include=[\"number\"])\n",
    "\n",
    "# Vypočítať korelačnú maticu\n",
    "correlation_matrix = data_numeric.corr()\n",
    "\n",
    "\n",
    "# Vykresliť korelačnú maticu ako heatmapu\n",
    "plt.figure(figsize=(10, 8))\n",
    "sns.heatmap(correlation_matrix, annot=True, cmap=\"coolwarm\", fmt=\".2f\", linewidths=0.5)\n",
    "plt.title(\"Korelačná matica atribútov\")\n",
    "plt.show()\n"
   ],
   "id": "2b5cc52f02c698a3"
  },
  {
   "metadata": {},
   "cell_type": "markdown",
   "source": "**Ktoré atribúty majú medzi sebou najväčšiu zápornú koreláciu?** (uveďte prvé dve dvojice)",
   "id": "680e20fc422df845"
  },
  {
   "metadata": {},
   "cell_type": "code",
   "outputs": [],
   "execution_count": null,
   "source": [
    "# Vybrať dvojice s najnižšou koreláciou (najsilnejšia negatívna korelácia)\n",
    "negative_correlation = correlation_matrix.unstack().sort_values().drop_duplicates()\n",
    "print(\"Najväčšia záporná korelácia medzi atribútmi:\")\n",
    "print(negative_correlation.head(2))\n"
   ],
   "id": "cc108327ac42fd"
  },
  {
   "metadata": {},
   "cell_type": "markdown",
   "source": "**Ktoré atribúty majú medzi sebou najväčšiu kladnú koreláciu?** (uveďte prvú dvojicu)",
   "id": "6db16947148c820d"
  },
  {
   "metadata": {},
   "cell_type": "code",
   "outputs": [],
   "execution_count": null,
   "source": [
    "# Vybrať dvojicu atribútov s najsilnejšou pozitívnou koreláciou\n",
    "positive_correlation = correlation_matrix.unstack().sort_values(ascending=False).drop_duplicates()\n",
    "print(\"Najväčšia kladná korelácia medzi atribútmi:\")\n",
    "print(positive_correlation.head(1))\n"
   ],
   "id": "d1977534358d7c7c"
  },
  {
   "metadata": {},
   "cell_type": "markdown",
   "source": [
    "----\n",
    "\n",
    "Viac informácií o zlyhaní srdca: https://www.nhlbi.nih.gov/health/heart-failure"
   ],
   "id": "b09e89839095c058"
  }
 ],
 "metadata": {
  "kernelspec": {
   "display_name": "Python 3 (ipykernel)",
   "language": "python",
   "name": "python3"
  },
  "language_info": {
   "codemirror_mode": "r",
   "file_extension": ".r",
   "mimetype": "text/x-r-source",
   "name": "R",
   "pygments_lexer": "r",
   "version": "4.3.2"
  }
 },
 "nbformat": 4,
 "nbformat_minor": 5
}
