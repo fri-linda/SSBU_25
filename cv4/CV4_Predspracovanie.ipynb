{
 "cells": [
  {
   "metadata": {},
   "cell_type": "markdown",
   "source": [
    "# **SSBU CV4: Predspracovanie a analýza údajov**\n",
    "\n",
    "Predpracovanie údajov a analýza zahŕňa niekoľko základných fáz, ktoré môžeme aplikovať vo vybranom programovacom jazyku (napr. Python alebo R).  Budeme pracovať s datasetom **U.S. Chronic Disease Indicators (CDI)**, ktorý obsahuje informácie o chronických ochoreniach v USA.\n",
    "\n",
    "---\n",
    "\n",
    "## **1. Úvod: Stiahnutie datasetu a základný prehľad**\n",
    "\n",
    "**Úloha 1.1: Stiahnite dataset**\n",
    "Chceme stiahnuť dataset **U.S. Chronic Disease Indicators (CDI)** z databázy [data.gov](https://data.gov/).\n",
    "\n",
    "**Hinty:**\n",
    "1. Vyhľadajte na stránke dataset s názvom \"U.S. Chronic Disease Indicators (CDI)\".\n",
    "2. Zanalyzujte možnosti stiahnutia datasetu.\n",
    "3. Zanalyzujte možnosti načítania datasetu do DataFrame (použite dokumentáciu k metóde `pd.read_csv(...)`) - [Dokumentácia read_csv](https://pandas.pydata.org/docs/reference/api/pandas.read_csv.html)\n",
    "4. Stiahnite dataset a načítajte ho do premennej `data`.\n",
    "5. Skontrolujte správne načítanie datasetu."
   ],
   "id": "54f5256e9555264e"
  },
  {
   "metadata": {
    "ExecuteTime": {
     "end_time": "2025-03-20T07:10:27.285333Z",
     "start_time": "2025-03-20T07:10:09.435668Z"
    }
   },
   "cell_type": "code",
   "source": [
    "# TODO\n",
    "import pandas as pd\n",
    "dataset = pd.read_csv(\"https://data.cdc.gov/api/views/hksd-2xuw/rows.csv?accessType=DOWNLOAD\")"
   ],
   "id": "43a1e621a2ceea1f",
   "outputs": [],
   "execution_count": 1
  },
  {
   "metadata": {},
   "cell_type": "markdown",
   "source": [
    "## **2. Fázy predspracovania**\n",
    "Pri práci s údajmi je často uvádzaných 6 hlavných krokov:\n",
    "1. Objavovanie (explore)\n",
    "2. Očistenie (clean)\n",
    "3. Úpravy (mutate)\n",
    "4. Popis (describe)\n",
    "5. Vizualizácia (visualize)\n",
    "6. Analýza (analyze)\n",
    "\n",
    "Nasledujúce sekcie ukazujú, ako tieto fázy aplikovať na dataset.\n",
    "\n",
    "---\n",
    "\n",
    "## **3. Objavovanie (explore)**\n",
    "\n",
    "**Objavovanie dát** znamená vytvoriť si prvotný dojem o údajoch. Tento proces zahŕňa napríklad:\n",
    "- Zistenie, koľko riadkov a stĺpcov údaje obsahujú.\n",
    "- Preskúmanie, či existujú chýbajúce údaje (null, NaN).\n",
    "- Overenie, či sú hodnoty v stĺpcoch logické (napr. negatívny vek u pacienta?).\n",
    "- Prezrenie si základnej štatistiku numerických premenných.\n",
    "\n",
    "Môžeme použiť:\n",
    "- `data.info()` – zobrazí počet riadkov, stĺpcov a typy stĺpcov (obj, float, int, category) - [Dokumentácia info](https://pandas.pydata.org/pandas-docs/stable/reference/api/pandas.DataFrame.info.html).\n",
    "- `data.describe()` – zobrazí štatistiku pre číselné premenné (count, mean, std, min, max, quartiles atď.) - [Dokumentácia describe](https://pandas.pydata.org/pandas-docs/stable/reference/api/pandas.DataFrame.describe.html).\n",
    "- `data.head()` a `data.tail()` – ukážu prvých/posledných pár riadkov - [Dokumentácia head](https://pandas.pydata.org/pandas-docs/stable/reference/api/pandas.DataFrame.head.html), [Dokumentácia tail](https://pandas.pydata.org/pandas-docs/stable/reference/api/pandas.DataFrame.tail.html).\n",
    "- `data.columns` – vráti zoznam názvov stĺpcov - [Dokumentácia columns](https://pandas.pydata.org/pandas-docs/stable/reference/api/pandas.DataFrame.columns.html).\n",
    "\n",
    "**Prečo to robiť:**\n",
    "- V praxi takto odhalíte napr. zlé načítanie údajov, extrémne hodnoty, nečakané stĺpce (napr. ID, duplicitné stĺpce), nedefinované hodnoty alebo formátové chyby.\n"
   ],
   "id": "7dbe54a55d2e356f"
  },
  {
   "metadata": {},
   "cell_type": "markdown",
   "source": [
    "**Úloha:** Vypíšte **posledných 5 riadkov** datasetu.\n",
    "\n"
   ],
   "id": "565af8a49db38279"
  },
  {
   "metadata": {
    "ExecuteTime": {
     "end_time": "2025-03-20T07:10:31.791695Z",
     "start_time": "2025-03-20T07:10:31.733183Z"
    }
   },
   "cell_type": "code",
   "source": [
    "# TODO\n",
    "dataset.tail()"
   ],
   "id": "dc01d1cc11235ae7",
   "outputs": [
    {
     "data": {
      "text/plain": [
       "        YearStart  YearEnd LocationAbbr    LocationDesc DataSource  \\\n",
       "309210       2022     2022           VI  Virgin Islands      BRFSS   \n",
       "309211       2022     2022           WV   West Virginia      BRFSS   \n",
       "309212       2022     2022           WI       Wisconsin      BRFSS   \n",
       "309213       2022     2022           VT         Vermont      BRFSS   \n",
       "309214       2022     2022           WA      Washington      BRFSS   \n",
       "\n",
       "                                        Topic  \\\n",
       "309210                                Tobacco   \n",
       "309211  Chronic Obstructive Pulmonary Disease   \n",
       "309212                           Immunization   \n",
       "309213          Social Determinants of Health   \n",
       "309214                                Alcohol   \n",
       "\n",
       "                                                 Question  Response  \\\n",
       "309210  Quit attempts in the past year among adult cur...       NaN   \n",
       "309211  Chronic obstructive pulmonary disease among ad...       NaN   \n",
       "309212  Pneumococcal vaccination among adults aged 65 ...       NaN   \n",
       "309213  Lack of health insurance among adults aged 18-...       NaN   \n",
       "309214             Binge drinking prevalence among adults       NaN   \n",
       "\n",
       "       DataValueUnit            DataValueType  ...  TopicID  QuestionID  \\\n",
       "309210             %  Age-adjusted Prevalence  ...      TOB       TOB06   \n",
       "309211             %         Crude Prevalence  ...     COPD      COPD01   \n",
       "309212             %         Crude Prevalence  ...      IMM       IMM04   \n",
       "309213             %         Crude Prevalence  ...     SDOH       SDH09   \n",
       "309214             %  Age-adjusted Prevalence  ...      ALC       ALC06   \n",
       "\n",
       "       ResponseID DataValueTypeID  StratificationCategoryID1  \\\n",
       "309210        NaN      AGEADJPREV                       RACE   \n",
       "309211        NaN         CRDPREV                    OVERALL   \n",
       "309212        NaN         CRDPREV                       RACE   \n",
       "309213        NaN         CRDPREV                       RACE   \n",
       "309214        NaN      AGEADJPREV                        SEX   \n",
       "\n",
       "        StratificationID1 StratificationCategoryID2 StratificationID2  \\\n",
       "309210               AIAN                       NaN               NaN   \n",
       "309211                OVR                       NaN               NaN   \n",
       "309212                BLK                       NaN               NaN   \n",
       "309213               HAPI                       NaN               NaN   \n",
       "309214               SEXM                       NaN               NaN   \n",
       "\n",
       "        StratificationCategoryID3  StratificationID3  \n",
       "309210                        NaN                NaN  \n",
       "309211                        NaN                NaN  \n",
       "309212                        NaN                NaN  \n",
       "309213                        NaN                NaN  \n",
       "309214                        NaN                NaN  \n",
       "\n",
       "[5 rows x 34 columns]"
      ],
      "text/html": [
       "<div>\n",
       "<style scoped>\n",
       "    .dataframe tbody tr th:only-of-type {\n",
       "        vertical-align: middle;\n",
       "    }\n",
       "\n",
       "    .dataframe tbody tr th {\n",
       "        vertical-align: top;\n",
       "    }\n",
       "\n",
       "    .dataframe thead th {\n",
       "        text-align: right;\n",
       "    }\n",
       "</style>\n",
       "<table border=\"1\" class=\"dataframe\">\n",
       "  <thead>\n",
       "    <tr style=\"text-align: right;\">\n",
       "      <th></th>\n",
       "      <th>YearStart</th>\n",
       "      <th>YearEnd</th>\n",
       "      <th>LocationAbbr</th>\n",
       "      <th>LocationDesc</th>\n",
       "      <th>DataSource</th>\n",
       "      <th>Topic</th>\n",
       "      <th>Question</th>\n",
       "      <th>Response</th>\n",
       "      <th>DataValueUnit</th>\n",
       "      <th>DataValueType</th>\n",
       "      <th>...</th>\n",
       "      <th>TopicID</th>\n",
       "      <th>QuestionID</th>\n",
       "      <th>ResponseID</th>\n",
       "      <th>DataValueTypeID</th>\n",
       "      <th>StratificationCategoryID1</th>\n",
       "      <th>StratificationID1</th>\n",
       "      <th>StratificationCategoryID2</th>\n",
       "      <th>StratificationID2</th>\n",
       "      <th>StratificationCategoryID3</th>\n",
       "      <th>StratificationID3</th>\n",
       "    </tr>\n",
       "  </thead>\n",
       "  <tbody>\n",
       "    <tr>\n",
       "      <th>309210</th>\n",
       "      <td>2022</td>\n",
       "      <td>2022</td>\n",
       "      <td>VI</td>\n",
       "      <td>Virgin Islands</td>\n",
       "      <td>BRFSS</td>\n",
       "      <td>Tobacco</td>\n",
       "      <td>Quit attempts in the past year among adult cur...</td>\n",
       "      <td>NaN</td>\n",
       "      <td>%</td>\n",
       "      <td>Age-adjusted Prevalence</td>\n",
       "      <td>...</td>\n",
       "      <td>TOB</td>\n",
       "      <td>TOB06</td>\n",
       "      <td>NaN</td>\n",
       "      <td>AGEADJPREV</td>\n",
       "      <td>RACE</td>\n",
       "      <td>AIAN</td>\n",
       "      <td>NaN</td>\n",
       "      <td>NaN</td>\n",
       "      <td>NaN</td>\n",
       "      <td>NaN</td>\n",
       "    </tr>\n",
       "    <tr>\n",
       "      <th>309211</th>\n",
       "      <td>2022</td>\n",
       "      <td>2022</td>\n",
       "      <td>WV</td>\n",
       "      <td>West Virginia</td>\n",
       "      <td>BRFSS</td>\n",
       "      <td>Chronic Obstructive Pulmonary Disease</td>\n",
       "      <td>Chronic obstructive pulmonary disease among ad...</td>\n",
       "      <td>NaN</td>\n",
       "      <td>%</td>\n",
       "      <td>Crude Prevalence</td>\n",
       "      <td>...</td>\n",
       "      <td>COPD</td>\n",
       "      <td>COPD01</td>\n",
       "      <td>NaN</td>\n",
       "      <td>CRDPREV</td>\n",
       "      <td>OVERALL</td>\n",
       "      <td>OVR</td>\n",
       "      <td>NaN</td>\n",
       "      <td>NaN</td>\n",
       "      <td>NaN</td>\n",
       "      <td>NaN</td>\n",
       "    </tr>\n",
       "    <tr>\n",
       "      <th>309212</th>\n",
       "      <td>2022</td>\n",
       "      <td>2022</td>\n",
       "      <td>WI</td>\n",
       "      <td>Wisconsin</td>\n",
       "      <td>BRFSS</td>\n",
       "      <td>Immunization</td>\n",
       "      <td>Pneumococcal vaccination among adults aged 65 ...</td>\n",
       "      <td>NaN</td>\n",
       "      <td>%</td>\n",
       "      <td>Crude Prevalence</td>\n",
       "      <td>...</td>\n",
       "      <td>IMM</td>\n",
       "      <td>IMM04</td>\n",
       "      <td>NaN</td>\n",
       "      <td>CRDPREV</td>\n",
       "      <td>RACE</td>\n",
       "      <td>BLK</td>\n",
       "      <td>NaN</td>\n",
       "      <td>NaN</td>\n",
       "      <td>NaN</td>\n",
       "      <td>NaN</td>\n",
       "    </tr>\n",
       "    <tr>\n",
       "      <th>309213</th>\n",
       "      <td>2022</td>\n",
       "      <td>2022</td>\n",
       "      <td>VT</td>\n",
       "      <td>Vermont</td>\n",
       "      <td>BRFSS</td>\n",
       "      <td>Social Determinants of Health</td>\n",
       "      <td>Lack of health insurance among adults aged 18-...</td>\n",
       "      <td>NaN</td>\n",
       "      <td>%</td>\n",
       "      <td>Crude Prevalence</td>\n",
       "      <td>...</td>\n",
       "      <td>SDOH</td>\n",
       "      <td>SDH09</td>\n",
       "      <td>NaN</td>\n",
       "      <td>CRDPREV</td>\n",
       "      <td>RACE</td>\n",
       "      <td>HAPI</td>\n",
       "      <td>NaN</td>\n",
       "      <td>NaN</td>\n",
       "      <td>NaN</td>\n",
       "      <td>NaN</td>\n",
       "    </tr>\n",
       "    <tr>\n",
       "      <th>309214</th>\n",
       "      <td>2022</td>\n",
       "      <td>2022</td>\n",
       "      <td>WA</td>\n",
       "      <td>Washington</td>\n",
       "      <td>BRFSS</td>\n",
       "      <td>Alcohol</td>\n",
       "      <td>Binge drinking prevalence among adults</td>\n",
       "      <td>NaN</td>\n",
       "      <td>%</td>\n",
       "      <td>Age-adjusted Prevalence</td>\n",
       "      <td>...</td>\n",
       "      <td>ALC</td>\n",
       "      <td>ALC06</td>\n",
       "      <td>NaN</td>\n",
       "      <td>AGEADJPREV</td>\n",
       "      <td>SEX</td>\n",
       "      <td>SEXM</td>\n",
       "      <td>NaN</td>\n",
       "      <td>NaN</td>\n",
       "      <td>NaN</td>\n",
       "      <td>NaN</td>\n",
       "    </tr>\n",
       "  </tbody>\n",
       "</table>\n",
       "<p>5 rows × 34 columns</p>\n",
       "</div>"
      ]
     },
     "execution_count": 2,
     "metadata": {},
     "output_type": "execute_result"
    }
   ],
   "execution_count": 2
  },
  {
   "metadata": {},
   "cell_type": "markdown",
   "source": "**Úloha:** Zobrazte zoznam **všetkých stĺpcov** a skontrolujte, či obsahuje stĺpec `LocationDesc`.\n",
   "id": "475b655c2af91d51"
  },
  {
   "metadata": {
    "ExecuteTime": {
     "end_time": "2025-03-13T07:40:39.488508Z",
     "start_time": "2025-03-13T07:40:39.478989Z"
    }
   },
   "cell_type": "code",
   "source": [
    "# TODO\n",
    "dataset.columns"
   ],
   "id": "3b100349a55c7462",
   "outputs": [
    {
     "data": {
      "text/plain": [
       "Index(['YearStart', 'YearEnd', 'LocationAbbr', 'LocationDesc', 'DataSource',\n",
       "       'Topic', 'Question', 'Response', 'DataValueUnit', 'DataValueType',\n",
       "       'DataValue', 'DataValueAlt', 'DataValueFootnoteSymbol',\n",
       "       'DataValueFootnote', 'LowConfidenceLimit', 'HighConfidenceLimit',\n",
       "       'StratificationCategory1', 'Stratification1', 'StratificationCategory2',\n",
       "       'Stratification2', 'StratificationCategory3', 'Stratification3',\n",
       "       'Geolocation', 'LocationID', 'TopicID', 'QuestionID', 'ResponseID',\n",
       "       'DataValueTypeID', 'StratificationCategoryID1', 'StratificationID1',\n",
       "       'StratificationCategoryID2', 'StratificationID2',\n",
       "       'StratificationCategoryID3', 'StratificationID3'],\n",
       "      dtype='object')"
      ]
     },
     "execution_count": 9,
     "metadata": {},
     "output_type": "execute_result"
    }
   ],
   "execution_count": 9
  },
  {
   "metadata": {},
   "cell_type": "markdown",
   "source": "**Úloha:** Vyberte jeden stĺpec (napr. `YearStart`) a vypíšte jeho unikátne hodnoty. (Použite metódu `unique()`.) - [Dokumentácia unique](https://pandas.pydata.org/docs/reference/api/pandas.Series.unique.html)",
   "id": "8d300821ef9a64c4"
  },
  {
   "metadata": {
    "ExecuteTime": {
     "end_time": "2025-03-20T07:10:39.764198Z",
     "start_time": "2025-03-20T07:10:39.746920Z"
    }
   },
   "cell_type": "code",
   "source": [
    "# TODO\n",
    "dataset[\"YearStart\"].unique()"
   ],
   "id": "baec0653c73ebfa7",
   "outputs": [
    {
     "data": {
      "text/plain": [
       "array([2019, 2020, 2021, 2022, 2015, 2016, 2018], dtype=int64)"
      ]
     },
     "execution_count": 3,
     "metadata": {},
     "output_type": "execute_result"
    }
   ],
   "execution_count": 3
  },
  {
   "metadata": {},
   "cell_type": "markdown",
   "source": [
    "**Kategorické a numerické premenné**\n",
    "- **Kategorické premenné** sú premenné, ktoré majú obmedzený počet hodnôt (napr. mená, farby, kategórie).\n",
    "- **Numerické premenné** sú premenné, ktoré majú hodnoty v číselnej forme (napr. vek, výška, cena).\n",
    "- **Časové premenné** sú špeciálny typ numerických premenných, ktoré reprezentujú čas (napr. dátum, čas, časová zóna).\n",
    "- **Textové premenné** sú premenné, ktoré obsahujú text (napr. komentáre, popisy).\n",
    "- **Binárne premenné** sú špeciálny typ kategorických premenných, ktoré majú iba dve hodnoty (napr. True/False, 0/1).\n",
    "\n",
    "Prečo je dôležité rozlišovať medzi nimi?\n",
    "- Pri vizualizácii sa používajú rôzne typy grafov pre rôzne typy premenných.\n",
    "- Pri analýze sa používajú rôzne štatistické metódy pre rôzne typy premenných.\n",
    "- Pri strojovom učení je potrebné transformovať premenné do vhodného formátu.\n",
    "\n",
    "Transformácia premenných:\n",
    "- Kategorické premenné sa môžu transformovať na numerické (napr. One-Hot Encoding).\n",
    "- Numerické premenné sa môžu transformovať na kategorické (napr. diskretizácia).\n",
    "- Textové premenné sa môžu transformovať na numerické (napr. TF-IDF).\n",
    "- Časové premenné sa môžu transformovať na numerické (napr. Unix timestamp).\n",
    "- Binárne premenné sa môžu transformovať na numerické (0/1) alebo kategorické (True/False).\n",
    "\n",
    "Vlastnosti numerických premenných:\n",
    "- **Rozsah hodnôt** - či je hodnota obmedzená (napr. vek) alebo neobmedzená (napr. cena) - [Dokumentácia min](https://pandas.pydata.org/docs/reference/api/pandas.DataFrame.min.html), [Dokumentácia max](https://pandas.pydata.org/docs/reference/api/pandas.DataFrame.max.html).\n",
    "- **Variabilita** (Variance) - či sú hodnoty rovnomerne rozložené alebo sa sústreďujú okolo priemeru - [Dokumentácia var](https://pandas.pydata.org/docs/reference/api/pandas.DataFrame.var.html).\n",
    "- **Smerodajná odchýlka** (Standard deviation) - miera variability hodnôt - [Dokumentácia std](https://pandas.pydata.org/docs/reference/api/pandas.DataFrame.std.html).\n",
    "- **Kvartily** (Quartiles) - hodnoty, ktoré rozdeľujú súbor hodnôt na štvrtiny - [Dokumentácia quantile](https://pandas.pydata.org/docs/reference/api/pandas.DataFrame.quantile.html).\n",
    "- **Medián** (Median) - hodnota, ktorá rozdeľuje súbor hodnôt na dve rovnaké polovice - [Dokumentácia median](https://pandas.pydata.org/docs/reference/api/pandas.DataFrame.median.html).\n",
    "- **Priemer** (Mean) - súčet hodnôt delený počtom hodnôt, ovplyvnený extrémnymi hodnotami - [Dokumentácia mean](https://pandas.pydata.org/docs/reference/api/pandas.DataFrame.mean.html).\n",
    "- **Modus** (Mode) - hodnota, ktorá sa v súbore hodnôt vyskytuje najčastejšie - [Dokumentácia mode](https://pandas.pydata.org/docs/reference/api/pandas.DataFrame.mode.html).\n",
    "\n",
    "**Úloha:** Zistite, či stĺpec `DataValue` je kategorický alebo numerický. (Použite metódu `dtypes`.) - [Dokumentácia dtypes](https://pandas.pydata.org/docs/reference/api/pandas.DataFrame.dtypes.html)"
   ],
   "id": "59acadf24133f5f5"
  },
  {
   "metadata": {
    "ExecuteTime": {
     "end_time": "2025-03-20T07:10:43.317366Z",
     "start_time": "2025-03-20T07:10:43.308765Z"
    }
   },
   "cell_type": "code",
   "source": [
    "# TODO\n",
    "dataset[\"DataValue\"].dtypes"
   ],
   "id": "aa0d0981b6002f38",
   "outputs": [
    {
     "data": {
      "text/plain": [
       "dtype('float64')"
      ]
     },
     "execution_count": 4,
     "metadata": {},
     "output_type": "execute_result"
    }
   ],
   "execution_count": 4
  },
  {
   "metadata": {},
   "cell_type": "markdown",
   "source": [
    "Triedenie a filtrovanie podľa hodnôt stĺpcov\n",
    "- **Triedenie** sa vykonáva pomocou metódy `sort_values` - [Dokumentácia sort_values](https://pandas.pydata.org/docs/reference/api/pandas.DataFrame.sort_values.html).\n",
    "- **Filtrovanie** sa vykonáva pomocou metódy `query` alebo zápisu `data[data['stĺpec'] == hodnota]`.\n",
    "- **Výber** stĺpcov sa vykonáva pomocou zápisu `data[['stĺpec1', 'stĺpec2']]`.\n",
    "- **Výber** riadkov sa vykonáva pomocou zápisu `data[riadky]`, kde `riadky` môže byť napr. `data['stĺpec'] > hodnota`.\n",
    "\n",
    "**Úloha:** Zoraďte dataset podľa stĺpca `YearStart` vzostupne a zobrazte prvých 5 riadkov."
   ],
   "id": "ddae4eb690d7f1ee"
  },
  {
   "metadata": {
    "ExecuteTime": {
     "end_time": "2025-03-20T07:10:47.625667Z",
     "start_time": "2025-03-20T07:10:47.605675Z"
    }
   },
   "cell_type": "code",
   "source": [
    "# TODO\n",
    "dataset[\"YearStart\"].sort_values\n",
    "dataset.head()"
   ],
   "id": "2bda3f8726183059",
   "outputs": [
    {
     "data": {
      "text/plain": [
       "   YearStart  YearEnd LocationAbbr LocationDesc DataSource     Topic  \\\n",
       "0       2019     2019           AR     Arkansas      BRFSS  Diabetes   \n",
       "1       2019     2019           ID        Idaho      BRFSS  Diabetes   \n",
       "2       2019     2019           IN      Indiana      YRBSS     Sleep   \n",
       "3       2019     2019           IA         Iowa       NVSS    Asthma   \n",
       "4       2019     2019           IA         Iowa      BRFSS    Asthma   \n",
       "\n",
       "                                            Question  Response DataValueUnit  \\\n",
       "0                              Diabetes among adults       NaN             %   \n",
       "1                              Diabetes among adults       NaN             %   \n",
       "2    Short sleep duration among high school students       NaN             %   \n",
       "3  Asthma mortality among all people, underlying ...       NaN        Number   \n",
       "4                        Current asthma among adults       NaN             %   \n",
       "\n",
       "      DataValueType  ...  TopicID  QuestionID ResponseID DataValueTypeID  \\\n",
       "0  Crude Prevalence  ...      DIA       DIA01        NaN         CRDPREV   \n",
       "1  Crude Prevalence  ...      DIA       DIA01        NaN         CRDPREV   \n",
       "2  Crude Prevalence  ...     SLEP       SLP02        NaN         CRDPREV   \n",
       "3            Number  ...      AST       AST01        NaN            NMBR   \n",
       "4  Crude Prevalence  ...      AST       AST02        NaN         CRDPREV   \n",
       "\n",
       "   StratificationCategoryID1  StratificationID1 StratificationCategoryID2  \\\n",
       "0                        SEX               SEXM                       NaN   \n",
       "1                        SEX               SEXM                       NaN   \n",
       "2                      GRADE              GRD12                       NaN   \n",
       "3                    OVERALL                OVR                       NaN   \n",
       "4                        AGE            AGE1844                       NaN   \n",
       "\n",
       "  StratificationID2  StratificationCategoryID3  StratificationID3  \n",
       "0               NaN                        NaN                NaN  \n",
       "1               NaN                        NaN                NaN  \n",
       "2               NaN                        NaN                NaN  \n",
       "3               NaN                        NaN                NaN  \n",
       "4               NaN                        NaN                NaN  \n",
       "\n",
       "[5 rows x 34 columns]"
      ],
      "text/html": [
       "<div>\n",
       "<style scoped>\n",
       "    .dataframe tbody tr th:only-of-type {\n",
       "        vertical-align: middle;\n",
       "    }\n",
       "\n",
       "    .dataframe tbody tr th {\n",
       "        vertical-align: top;\n",
       "    }\n",
       "\n",
       "    .dataframe thead th {\n",
       "        text-align: right;\n",
       "    }\n",
       "</style>\n",
       "<table border=\"1\" class=\"dataframe\">\n",
       "  <thead>\n",
       "    <tr style=\"text-align: right;\">\n",
       "      <th></th>\n",
       "      <th>YearStart</th>\n",
       "      <th>YearEnd</th>\n",
       "      <th>LocationAbbr</th>\n",
       "      <th>LocationDesc</th>\n",
       "      <th>DataSource</th>\n",
       "      <th>Topic</th>\n",
       "      <th>Question</th>\n",
       "      <th>Response</th>\n",
       "      <th>DataValueUnit</th>\n",
       "      <th>DataValueType</th>\n",
       "      <th>...</th>\n",
       "      <th>TopicID</th>\n",
       "      <th>QuestionID</th>\n",
       "      <th>ResponseID</th>\n",
       "      <th>DataValueTypeID</th>\n",
       "      <th>StratificationCategoryID1</th>\n",
       "      <th>StratificationID1</th>\n",
       "      <th>StratificationCategoryID2</th>\n",
       "      <th>StratificationID2</th>\n",
       "      <th>StratificationCategoryID3</th>\n",
       "      <th>StratificationID3</th>\n",
       "    </tr>\n",
       "  </thead>\n",
       "  <tbody>\n",
       "    <tr>\n",
       "      <th>0</th>\n",
       "      <td>2019</td>\n",
       "      <td>2019</td>\n",
       "      <td>AR</td>\n",
       "      <td>Arkansas</td>\n",
       "      <td>BRFSS</td>\n",
       "      <td>Diabetes</td>\n",
       "      <td>Diabetes among adults</td>\n",
       "      <td>NaN</td>\n",
       "      <td>%</td>\n",
       "      <td>Crude Prevalence</td>\n",
       "      <td>...</td>\n",
       "      <td>DIA</td>\n",
       "      <td>DIA01</td>\n",
       "      <td>NaN</td>\n",
       "      <td>CRDPREV</td>\n",
       "      <td>SEX</td>\n",
       "      <td>SEXM</td>\n",
       "      <td>NaN</td>\n",
       "      <td>NaN</td>\n",
       "      <td>NaN</td>\n",
       "      <td>NaN</td>\n",
       "    </tr>\n",
       "    <tr>\n",
       "      <th>1</th>\n",
       "      <td>2019</td>\n",
       "      <td>2019</td>\n",
       "      <td>ID</td>\n",
       "      <td>Idaho</td>\n",
       "      <td>BRFSS</td>\n",
       "      <td>Diabetes</td>\n",
       "      <td>Diabetes among adults</td>\n",
       "      <td>NaN</td>\n",
       "      <td>%</td>\n",
       "      <td>Crude Prevalence</td>\n",
       "      <td>...</td>\n",
       "      <td>DIA</td>\n",
       "      <td>DIA01</td>\n",
       "      <td>NaN</td>\n",
       "      <td>CRDPREV</td>\n",
       "      <td>SEX</td>\n",
       "      <td>SEXM</td>\n",
       "      <td>NaN</td>\n",
       "      <td>NaN</td>\n",
       "      <td>NaN</td>\n",
       "      <td>NaN</td>\n",
       "    </tr>\n",
       "    <tr>\n",
       "      <th>2</th>\n",
       "      <td>2019</td>\n",
       "      <td>2019</td>\n",
       "      <td>IN</td>\n",
       "      <td>Indiana</td>\n",
       "      <td>YRBSS</td>\n",
       "      <td>Sleep</td>\n",
       "      <td>Short sleep duration among high school students</td>\n",
       "      <td>NaN</td>\n",
       "      <td>%</td>\n",
       "      <td>Crude Prevalence</td>\n",
       "      <td>...</td>\n",
       "      <td>SLEP</td>\n",
       "      <td>SLP02</td>\n",
       "      <td>NaN</td>\n",
       "      <td>CRDPREV</td>\n",
       "      <td>GRADE</td>\n",
       "      <td>GRD12</td>\n",
       "      <td>NaN</td>\n",
       "      <td>NaN</td>\n",
       "      <td>NaN</td>\n",
       "      <td>NaN</td>\n",
       "    </tr>\n",
       "    <tr>\n",
       "      <th>3</th>\n",
       "      <td>2019</td>\n",
       "      <td>2019</td>\n",
       "      <td>IA</td>\n",
       "      <td>Iowa</td>\n",
       "      <td>NVSS</td>\n",
       "      <td>Asthma</td>\n",
       "      <td>Asthma mortality among all people, underlying ...</td>\n",
       "      <td>NaN</td>\n",
       "      <td>Number</td>\n",
       "      <td>Number</td>\n",
       "      <td>...</td>\n",
       "      <td>AST</td>\n",
       "      <td>AST01</td>\n",
       "      <td>NaN</td>\n",
       "      <td>NMBR</td>\n",
       "      <td>OVERALL</td>\n",
       "      <td>OVR</td>\n",
       "      <td>NaN</td>\n",
       "      <td>NaN</td>\n",
       "      <td>NaN</td>\n",
       "      <td>NaN</td>\n",
       "    </tr>\n",
       "    <tr>\n",
       "      <th>4</th>\n",
       "      <td>2019</td>\n",
       "      <td>2019</td>\n",
       "      <td>IA</td>\n",
       "      <td>Iowa</td>\n",
       "      <td>BRFSS</td>\n",
       "      <td>Asthma</td>\n",
       "      <td>Current asthma among adults</td>\n",
       "      <td>NaN</td>\n",
       "      <td>%</td>\n",
       "      <td>Crude Prevalence</td>\n",
       "      <td>...</td>\n",
       "      <td>AST</td>\n",
       "      <td>AST02</td>\n",
       "      <td>NaN</td>\n",
       "      <td>CRDPREV</td>\n",
       "      <td>AGE</td>\n",
       "      <td>AGE1844</td>\n",
       "      <td>NaN</td>\n",
       "      <td>NaN</td>\n",
       "      <td>NaN</td>\n",
       "      <td>NaN</td>\n",
       "    </tr>\n",
       "  </tbody>\n",
       "</table>\n",
       "<p>5 rows × 34 columns</p>\n",
       "</div>"
      ]
     },
     "execution_count": 5,
     "metadata": {},
     "output_type": "execute_result"
    }
   ],
   "execution_count": 5
  },
  {
   "metadata": {},
   "cell_type": "markdown",
   "source": [
    "\n",
    "---\n",
    "\n",
    "## **4. Očistenie (clean)**\n",
    "\n",
    "Pri **čistení dát** odstránime chybné, duplicitné alebo chýbajúce hodnoty a urobíme validáciu.\n",
    "\n",
    "Môžeme použiť:\n",
    "- `fillna(value)` – doplní chýbajúce hodnoty zadanou hodnotou - [Dokumentácia fillna](https://pandas.pydata.org/docs/reference/api/pandas.DataFrame.fillna.html)\n",
    "- `drop(columns=['col1', 'col2'])` – odstráni stĺpce - [Dokumentácia drop](https://pandas.pydata.org/docs/reference/api/pandas.DataFrame.drop.html)\n",
    "- `drop(index=[0, 1, 2])` – odstráni riadky podľa indexov - [Dokumentácia drop](https://pandas.pydata.org/docs/reference/api/pandas.DataFrame.drop.html)\n",
    "- `dropna()` – vyhodí riadky, ktoré majú aspoň v jednom stĺpci chýbajúce hodnoty - [Dokumentácia dropna](https://pandas.pydata.org/docs/reference/api/pandas.DataFrame.dropna.html)\n",
    "- `drop_duplicates()` – odstráni duplicitné riadky - [Dokumentácia drop_duplicates](https://pandas.pydata.org/docs/reference/api/pandas.DataFrame.drop_duplicates.html)\n",
    "- Zmena typov: `data['Topic'] = data['Topic'].astype('category')` - mení typ stĺpca na kategorický - [Dokumentácia astype](https://pandas.pydata.org/docs/reference/api/pandas.Series.astype.html)\n",
    "- Overovanie logiky: Môžeme napr. odfiltrovať záznamy, kde `YearStart < 2000` (ak vieme, že staršie roky sú nerelevantné).\n",
    "\n",
    "**Prečo to robiť:**\n",
    "- Chýbajúce údaje môžu skresliť výsledky analýzy.\n",
    "- Duplicitné riadky môžu spôsobiť chyby vovýsledkoch štatistík.\n",
    "- Nesprávne typy môžu brániť vo výpočtoch alebo vizualizácii.\n",
    "\n",
    "**Príklad**"
   ],
   "id": "50c140341836b7dc"
  },
  {
   "metadata": {
    "ExecuteTime": {
     "end_time": "2025-03-20T07:10:55.098168Z",
     "start_time": "2025-03-20T07:10:53.634246Z"
    }
   },
   "cell_type": "code",
   "source": [
    "# drop the NA values in the 'DataValue' column\n",
    "data_clean =  data.dropna(subset=['DataValue'])\n",
    "\n",
    "# drop duplicates\n",
    "data_clean = data_clean.drop_duplicates()\n",
    "\n",
    "# change the data type of the 'Topic' column to category\n",
    "data_clean['Topic'] = data_clean['Topic'].astype('category')"
   ],
   "id": "f4188ffb194d4bf0",
   "outputs": [
    {
     "ename": "NameError",
     "evalue": "name 'data' is not defined",
     "output_type": "error",
     "traceback": [
      "\u001B[1;31m---------------------------------------------------------------------------\u001B[0m",
      "\u001B[1;31mNameError\u001B[0m                                 Traceback (most recent call last)",
      "Cell \u001B[1;32mIn[6], line 2\u001B[0m\n\u001B[0;32m      1\u001B[0m \u001B[38;5;66;03m# drop the NA values in the 'DataValue' column\u001B[39;00m\n\u001B[1;32m----> 2\u001B[0m data_clean \u001B[38;5;241m=\u001B[39m  \u001B[43mdata\u001B[49m\u001B[38;5;241m.\u001B[39mdropna(subset\u001B[38;5;241m=\u001B[39m[\u001B[38;5;124m'\u001B[39m\u001B[38;5;124mDataValue\u001B[39m\u001B[38;5;124m'\u001B[39m])\n\u001B[0;32m      4\u001B[0m \u001B[38;5;66;03m# drop duplicates\u001B[39;00m\n\u001B[0;32m      5\u001B[0m data_clean \u001B[38;5;241m=\u001B[39m data_clean\u001B[38;5;241m.\u001B[39mdrop_duplicates()\n",
      "\u001B[1;31mNameError\u001B[0m: name 'data' is not defined"
     ]
    }
   ],
   "execution_count": 6
  },
  {
   "metadata": {},
   "cell_type": "markdown",
   "source": "**Úloha:** Zistite, koľko chýbajúcich hodnôt obsahuje stĺpec `HighConfidenceLimit`. Použite metódy `isnull()` a `sum()`. - [Dokumentácia isnull](https://pandas.pydata.org/docs/reference/api/pandas.DataFrame.isnull.html), [Dokumentácia sum](https://pandas.pydata.org/docs/reference/api/pandas.DataFrame.sum.html)\n",
   "id": "feb91a7492412d38"
  },
  {
   "metadata": {
    "ExecuteTime": {
     "end_time": "2025-03-13T07:48:05.027328Z",
     "start_time": "2025-03-13T07:48:05.020634Z"
    }
   },
   "cell_type": "code",
   "source": [
    "# TODO\n",
    "dataset[\"HighConfidenceLimit\"].isnull().sum()"
   ],
   "id": "9b2ce0a0dedf7e10",
   "outputs": [
    {
     "data": {
      "text/plain": [
       "120325"
      ]
     },
     "execution_count": 15,
     "metadata": {},
     "output_type": "execute_result"
    }
   ],
   "execution_count": 15
  },
  {
   "metadata": {},
   "cell_type": "markdown",
   "source": "**Úloha:** Vytvorte nový DataFrame `data_no_na` a odstráňte všetky riadky, kde chýba `HighConfidenceLimit`. Použite parameter `subset` v metóde `dropna()`. - [Dokumentácia dropna](https://pandas.pydata.org/docs/reference/api/pandas.DataFrame.dropna.html)\n",
   "id": "ce92f045c3b12b96"
  },
  {
   "metadata": {
    "ExecuteTime": {
     "end_time": "2025-03-20T07:11:07.180979Z",
     "start_time": "2025-03-20T07:11:07.066947Z"
    }
   },
   "cell_type": "code",
   "source": [
    "# TODO\n",
    "data_no_na = dataset.dropna(subset=['HighConfidenceLimit'])"
   ],
   "id": "97b1357fcdcc2a89",
   "outputs": [],
   "execution_count": 7
  },
  {
   "metadata": {},
   "cell_type": "markdown",
   "source": "**Úloha:** Overte, že `data_no_na` nemá žiadne chýbajúce hodnoty v danom stĺpci.\n",
   "id": "2d18a10057875f3d"
  },
  {
   "metadata": {
    "ExecuteTime": {
     "end_time": "2025-03-20T07:11:09.162292Z",
     "start_time": "2025-03-20T07:11:09.152028Z"
    }
   },
   "cell_type": "code",
   "source": [
    "# TODO\n",
    "data_no_na['HighConfidenceLimit'].isnull().sum()"
   ],
   "id": "2bf5b0cd7410f225",
   "outputs": [
    {
     "data": {
      "text/plain": [
       "0"
      ]
     },
     "execution_count": 8,
     "metadata": {},
     "output_type": "execute_result"
    }
   ],
   "execution_count": 8
  },
  {
   "metadata": {},
   "cell_type": "markdown",
   "source": [
    "**Redukcia dát:**\n",
    "- **Odstránenie stĺpcov** s nízkou informačnou hodnotou.\n",
    "- **Odstránenie riadkov** s chýbajúcimi hodnotami, prípadne s hodnotami ktoré pre nás nie sú podstatné.\n",
    "\n",
    "**Príklad:** Z datasetu vybrerieme len množinu stĺpcov, ktorá nás zaujíma, a odstránime nepotrebné stĺpce. Z údajov ďalej použijeme iba tie, ktoré sú pre nás relevantné, napr. tie, kde je hodnota `YearStart` väčšia ako 2015.\n"
   ],
   "id": "36606f7dbc3a0b67"
  },
  {
   "metadata": {},
   "cell_type": "code",
   "source": [
    "data_selected = data_clean[['YearStart', 'YearEnd', 'LocationAbbr', 'LocationDesc', 'DataSource', 'Topic', 'TopicID', 'Question', 'DataValueUnit', 'DataValueType', 'DataValue', 'DataValueAlt', 'LowConfidenceLimit', 'HighConfidenceLimit', 'StratificationCategory1', 'Stratification1']]\n",
    "data_selected = data_selected[data_selected['YearStart'] > 2015]\n",
    "\n",
    "data_selected"
   ],
   "id": "7e75a4b1913b2ec6",
   "outputs": [],
   "execution_count": null
  },
  {
   "metadata": {},
   "cell_type": "markdown",
   "source": [
    "---\n",
    "\n",
    "## **5. Úpravy (mutate)**\n",
    "\n",
    "Po vyčistení môže nasledovať **úprava údajov**:\n",
    "- Prekódovanie názvov stĺpcov\n",
    "- Výpočet nových stĺpcov\n",
    "- Pivotovanie dát (zmena tvaru tabuľky)\n",
    "- Zoskupovanie dát a agregácia\n",
    "- Normalizácia, škálovanie, transformácia\n",
    "\n",
    "Ako príklad môžeme vytvoriť nový stĺpec, ktorý bude obsahovať rozdiel medzi hornou a dolnou medzou spoľahlivosti, alebo môžeme vytvoriť pivot tabuľku pre lepšiu vizualizáciu.\n",
    "\n",
    "Môžeme použiť:\n",
    "+ `rename(columns={'oldName':'newName'})` – premenovanie stĺpcov.\n",
    "+ `data['Sum'] = data['Col1'] + data['Col2']` – vytvorenie nového stĺpca ako kombinácie iných stĺpcov.\n",
    "+ `data.pivot_table(values='DataValue', index='LocationAbbr', columns='YearStart', aggfunc='mean')` – vytvorí pivotovú tabuľku údajov - [Dokumentácia pivot_table](https://pandas.pydata.org/docs/reference/api/pandas.DataFrame.pivot_table.html)\n",
    "- Ďalšie metódy: `map()`, `apply()`, `transform()`, `groupby()`, `merge()`, atď.\n",
    "\n",
    "**Prečo to robiť**\n",
    "- Vytváranie nových stĺpcov môže pomôcť pri analýze dát.\n",
    "- Pivotovanie dát môže zjednodušiť vizualizáciu alebo analýzu.\n",
    "- Prekódovanie názvov stĺpcov môže zlepšiť čitateľnosť dát.\n",
    "- Zoskupovanie dát môže zjednodušiť analýzu.\n",
    "- Normalizácia môže pomôcť pri strojovom učení.\n",
    "- Transformácia môže zlepšiť výsledky modelov.\n",
    "\n",
    "\n",
    "**Príklad**"
   ],
   "id": "f2bdf4cc76c9f10a"
  },
  {
   "metadata": {
    "ExecuteTime": {
     "end_time": "2025-03-20T07:11:14.950870Z",
     "start_time": "2025-03-20T07:11:14.920311Z"
    }
   },
   "cell_type": "code",
   "source": [
    "# rename the column\n",
    "data_selected = data_selected.rename(columns={'DataValueAlt': 'DataValueNum'})\n",
    "\n",
    "# create new column\n",
    "data_selected['Diff'] = data_selected['HighConfidenceLimit'] - data_selected['LowConfidenceLimit']\n",
    "\n",
    "# pivot table\n",
    "pivot_df = data_selected.pivot_table(\n",
    "    values='DataValueNum',\n",
    "    index='LocationAbbr',\n",
    "    columns='YearStart',\n",
    "    aggfunc='mean'\n",
    ")\n",
    "\n",
    "pivot_df.head()"
   ],
   "id": "d8c660da285b8d2b",
   "outputs": [
    {
     "ename": "NameError",
     "evalue": "name 'data_selected' is not defined",
     "output_type": "error",
     "traceback": [
      "\u001B[1;31m---------------------------------------------------------------------------\u001B[0m",
      "\u001B[1;31mNameError\u001B[0m                                 Traceback (most recent call last)",
      "Cell \u001B[1;32mIn[9], line 2\u001B[0m\n\u001B[0;32m      1\u001B[0m \u001B[38;5;66;03m# rename the column\u001B[39;00m\n\u001B[1;32m----> 2\u001B[0m data_selected \u001B[38;5;241m=\u001B[39m \u001B[43mdata_selected\u001B[49m\u001B[38;5;241m.\u001B[39mrename(columns\u001B[38;5;241m=\u001B[39m{\u001B[38;5;124m'\u001B[39m\u001B[38;5;124mDataValueAlt\u001B[39m\u001B[38;5;124m'\u001B[39m: \u001B[38;5;124m'\u001B[39m\u001B[38;5;124mDataValueNum\u001B[39m\u001B[38;5;124m'\u001B[39m})\n\u001B[0;32m      4\u001B[0m \u001B[38;5;66;03m# create new column\u001B[39;00m\n\u001B[0;32m      5\u001B[0m data_selected[\u001B[38;5;124m'\u001B[39m\u001B[38;5;124mDiff\u001B[39m\u001B[38;5;124m'\u001B[39m] \u001B[38;5;241m=\u001B[39m data_selected[\u001B[38;5;124m'\u001B[39m\u001B[38;5;124mHighConfidenceLimit\u001B[39m\u001B[38;5;124m'\u001B[39m] \u001B[38;5;241m-\u001B[39m data_selected[\u001B[38;5;124m'\u001B[39m\u001B[38;5;124mLowConfidenceLimit\u001B[39m\u001B[38;5;124m'\u001B[39m]\n",
      "\u001B[1;31mNameError\u001B[0m: name 'data_selected' is not defined"
     ]
    }
   ],
   "execution_count": 9
  },
  {
   "metadata": {},
   "cell_type": "markdown",
   "source": [
    "**Úloha:** Premenujte stĺpec `DataValueType` na `ValueType`.\n",
    "\n"
   ],
   "id": "dbf60df6a8c92722"
  },
  {
   "metadata": {
    "ExecuteTime": {
     "end_time": "2025-03-13T07:59:40.477917Z",
     "start_time": "2025-03-13T07:59:40.441184Z"
    }
   },
   "cell_type": "code",
   "source": [
    "# TODO\n",
    "dataChanged = dataset.rename(columns={'DataValueType': 'ValueType'})"
   ],
   "id": "cd8d6304d575c64a",
   "outputs": [],
   "execution_count": 18
  },
  {
   "metadata": {},
   "cell_type": "markdown",
   "source": "**Úloha:** Vytvorte kontingenčnú (pivotovú) tabuľku pre stĺpce `Topic` (index) a `LocationAbbr` (columns), kde `values` bude priemerná hodnota `DataValueNum`. (Použite parameter observed=False pre potlačenie upozornenia.)\n",
   "id": "474d2bf63cfd2ee6"
  },
  {
   "metadata": {
    "ExecuteTime": {
     "end_time": "2025-03-13T08:08:46.961412Z",
     "start_time": "2025-03-13T08:08:46.873189Z"
    }
   },
   "cell_type": "code",
   "source": [
    "# TODO\n",
    "pivot_df = dataset.pivot_table(\n",
    "    values='DataValueAlt',\n",
    "    index='Topic',\n",
    "    columns='LocationAbbr',\n",
    "    aggfunc='mean',\n",
    "    observed='false'\n",
    ")"
   ],
   "id": "bddd7f927e147a50",
   "outputs": [],
   "execution_count": 23
  },
  {
   "metadata": {},
   "cell_type": "markdown",
   "source": "**Úloha:** Vytvorte nový stĺpec `Range` ako rozdiel `HighConfidenceLimit - LowConfidenceLimit`.",
   "id": "bad7b8cbcb57cfb4"
  },
  {
   "metadata": {
    "ExecuteTime": {
     "end_time": "2025-03-13T08:11:39.736802Z",
     "start_time": "2025-03-13T08:11:39.723585Z"
    }
   },
   "cell_type": "code",
   "source": [
    "# TODO\n",
    "dataset['Range'] = dataset['HighConfidenceLimit'] - dataset['LowConfidenceLimit']"
   ],
   "id": "dd4ef338db6a19d6",
   "outputs": [],
   "execution_count": 24
  },
  {
   "metadata": {},
   "cell_type": "code",
   "outputs": [],
   "execution_count": null,
   "source": [
    "#**Úloha:** Vytvorte stĺpec `HighVal`, ktorý binárne označí, či je daný záznam „vysoký“ alebo „nízky“. Ako podmienku pre odlíšenie záznamov použite stĺpec `DataValueNum`, pričom hraničná hodnota bude väčšia ako 50. Metóda astype() vytvorí z bool hodnôt 0 a 1 - [Dokumentácia astype](https://pandas.pydata.org/docs/reference/api/pandas.Series.astype.html).\n",
    "\n",
    " #Hint: Použite `(data_clean[\"DataValueNum\"] > 50).astype(int)`.\n"
   ],
   "id": "ae2d4b79ea952d06"
  },
  {
   "metadata": {
    "ExecuteTime": {
     "end_time": "2025-03-13T08:13:35.171750Z",
     "start_time": "2025-03-13T08:13:35.162281Z"
    }
   },
   "cell_type": "code",
   "source": [
    "# TODO\n",
    "dataset['HighVal'] = (dataset[\"DataValueAlt\"] > 50).astype(int)"
   ],
   "id": "b94b742a746c15c8",
   "outputs": [],
   "execution_count": 25
  },
  {
   "metadata": {},
   "cell_type": "markdown",
   "source": [
    "---\n",
    "\n",
    "## **6. Popis (describe)**\n",
    "\n",
    "Popis dát slúži na to, aby sme získali **základný prehľad o rozdelení hodnôt** v datasetoch.\n",
    "\n",
    "Môžeme použiť:\n",
    "- `describe()` – poskytne súhrnnú štatistiku (mean, std, min, max, quartiles).\n",
    "- `groupby()` – umožní zoskupiť dáta podľa určitej kategórie a potom vykonať agregácie (napr. min, max, mean, median, count, atď.) - [Dokumentácia groupby](https://pandas.pydata.org/docs/reference/api/pandas.DataFrame.groupby.html).\n",
    "- `plot(kind='xxx')` – umožní vizualizovať distribúciu hodnôt (napr. histogram, boxplot, atď.).\n",
    "- `corr()` – vypočíta korelácie medzi numerickými stĺpcami - [Dokumentácia corr](https://pandas.pydata.org/docs/reference/api/pandas.DataFrame.corr.html)\n",
    "- `ttest_ind()` – vykoná t-test na overenie hypotéz - [Dokumentácia ttest_ind](https://docs.scipy.org/docs/scipy/reference/generated/scipy.stats.ttest_ind.html)\n",
    "- `zscore()` – vypočíta z-score pre detekciu outlierov - [Dokumentácia zscore](https://docs.scipy.org/docs/scipy/reference/generated/scipy.stats.zscore.html)\n",
    "- `agg()` – umožní aplikovať viacero agregácií naraz - [Dokumentácia agg](https://pandas.pydata.org/docs/reference/api/pandas.DataFrame.agg.html)\n",
    "- Ďalšie metódy: `mean()`, `median()`, `std()`, `count()`, `min()`, `max()`, atď.\n",
    "\n",
    "**Prečo to robiť:**\n",
    "- Zistíme, či v datasetoch nemáme extrémne hodnoty (outliers) alebo nekonzistentné dáta.\n",
    "- Porovnáme priemer vs. medián (ak je medzi nimi veľký rozdiel, môžeme mať 'skewed' distribúciu údajov).\n",
    "- Zistíme, či sú dáta normálne distribuované.\n",
    "\n",
    "**Príklad**"
   ],
   "id": "35bc0454b98bec73"
  },
  {
   "metadata": {},
   "cell_type": "code",
   "source": [
    "# Groupby + aggregation\n",
    "data_summary = data_selected.groupby('LocationAbbr', observed=False).agg(\n",
    "    MinValue=('DataValueNum', 'min'),\n",
    "    MaxValue=('DataValueNum', 'max'),\n",
    "    MeanVal=('DataValueNum', 'mean'),\n",
    "    StdVal=('DataValueNum', 'std'),\n",
    "    CountVal=('DataValueNum', 'count')\n",
    ")\n",
    "data_summary.head()"
   ],
   "id": "f218a2ad86116e47",
   "outputs": [],
   "execution_count": null
  },
  {
   "metadata": {},
   "cell_type": "markdown",
   "source": "**Úloha:** Vytvorte `groupby` pre stĺpec `Topic` a vypočítajte priemer a medián pre stĺpec `DataValueNum`. Výsledok uložte do premennej `topic_stats`. Ďalej vypíšte aj počet hodnôt (count) pre každý `Topic`.\n",
   "id": "190e78b9d0e7bf9d"
  },
  {
   "metadata": {
    "ExecuteTime": {
     "end_time": "2025-03-13T08:16:55.815526Z",
     "start_time": "2025-03-13T08:16:55.767149Z"
    }
   },
   "cell_type": "code",
   "source": [
    "# TODO\n",
    "topic_stats = dataset.groupby('Topic', observed=False).agg(\n",
    "    Median=('DataValueAlt', 'median'),\n",
    "    MeanVal=('DataValueAlt', 'mean')\n",
    ")\n",
    "topic_stats.count()"
   ],
   "id": "39379301f4d08ade",
   "outputs": [
    {
     "data": {
      "text/plain": [
       "Median     19\n",
       "MeanVal    19\n",
       "dtype: int64"
      ]
     },
     "execution_count": 27,
     "metadata": {},
     "output_type": "execute_result"
    }
   ],
   "execution_count": 27
  },
  {
   "metadata": {},
   "cell_type": "markdown",
   "source": "**Úloha:** Urobte to isté pre `LocationAbbr`, ale pridajte aj min/max.",
   "id": "9053a6e6c62adf73"
  },
  {
   "metadata": {
    "ExecuteTime": {
     "end_time": "2025-03-13T08:17:52.817731Z",
     "start_time": "2025-03-13T08:17:52.766669Z"
    }
   },
   "cell_type": "code",
   "source": [
    "# TODO\n",
    "lacation_stats = dataset.groupby('LocationAbbr', observed=False).agg(\n",
    "    Median=('DataValueAlt', 'median'),\n",
    "    MeanVal=('DataValueAlt', 'mean'),\n",
    "    MinVal=('DataValueAlt', 'min'),\n",
    "    MaxVal=('DataValueAlt', 'max'),\n",
    ")\n",
    "lacation_stats.count()"
   ],
   "id": "4e42d42670c499ce",
   "outputs": [
    {
     "data": {
      "text/plain": [
       "Median     55\n",
       "MeanVal    55\n",
       "MinVal     55\n",
       "MaxVal     55\n",
       "dtype: int64"
      ]
     },
     "execution_count": 29,
     "metadata": {},
     "output_type": "execute_result"
    }
   ],
   "execution_count": 29
  },
  {
   "metadata": {},
   "cell_type": "markdown",
   "source": [
    "---\n",
    "\n",
    "## **7. Vizualizácia (visualize)**\n",
    "\n",
    "Vizualizácia je **kľúčová** na odhalenie vzťahov alebo extrémnych hodnôt, ktoré by sme inak prehliadli. Pomocou grafov môžeme zobraziť distribúciu hodnôt, korelácie, zhlukovanie alebo vzory v dátach.\n",
    "\n",
    "Môžeme použiť:\n",
    "- Knižnicu **matplotlib**, ktorá umožňuje pomocou metódy `plot` vytvárať rôzne grafy - [Dokumentácia matplotlib](https://matplotlib.org/stable/api/_as_gen/matplotlib.pyplot.html).\n",
    "- Často sa používa aj **pandas** `.plot(kind='xxx')`, kde `xxx` je `line`, `bar`, `hist`, `box` atď.\n",
    "- Prípadne môžeme použiť **seaborn** na pokročilejšiu vizualizáciu (kategórie s farebným rozlíšením, hustotné grafy, atď.).\n",
    "\n",
    "Môžeme použiť: (knižnica **Pandas**)\n",
    "- `plot(kind='xxx')` – zobrazí daný typ grafu (line, bar, hist, box, scatter, pie, atď.) - [Dokumentácia plot](https://pandas.pydata.org/docs/reference/api/pandas.DataFrame.plot.html)\n",
    "- `plot.bar()` – stĺpcový graf - [Dokumentácia bar](https://pandas.pydata.org/docs/reference/api/pandas.DataFrame.plot.bar.html)\n",
    "- `plot.hist()` – histogram - [Dokumentácia hist](https://pandas.pydata.org/docs/reference/api/pandas.DataFrame.plot.hist.html)\n",
    "- `plot.box()` – boxplot - [Dokumentácia box](https://pandas.pydata.org/docs/reference/api/pandas.DataFrame.plot.box.html)\n",
    "- `plot.scatter()` – scatterplot - [Dokumentácia scatter](https://pandas.pydata.org/docs/reference/api/pandas.DataFrame.plot.scatter.html)\n",
    "- `plot.pie()` – koláčový graf - [Dokumentácia pie](https://pandas.pydata.org/docs/reference/api/pandas.DataFrame.plot.pie.html)\n",
    "- Ďalšie metódy: `plot.line()`, `plot.area()`, `plot.barh()`, `plot.kde()`, `plot.hexbin()`, atď.\n",
    "- **Seaborn**: `sns.barplot()`, `sns.boxplot()`, `sns.heatmap()`, `sns.scatterplot()`, `sns.pairplot()`, atď.\n",
    "- **Matplotlib**: `plt.plot()`, `plt.bar()`, `plt.hist()`, `plt.boxplot()`, `plt.scatter()`, `plt.pie()`, atď.s\n",
    "\n",
    "**Prečo to robiť**\n",
    "- Vizualizácia pomáha odhaliť vzory, korelácie alebo extrémne hodnoty.\n",
    "- Pomáha pri interpretácii dát a komunikácii výsledkov.\n",
    "- Môžeme použiť aj interaktívne vizualizačné nástroje ako **plotly** alebo **bokeh**.\n",
    "- Vizualizácia je dôležitá aj pri tvorbe prezentácií alebo reportov.\n",
    "- Môžeme použiť aj **tableau** alebo **powerBI** na vizualizáciu.\n",
    "\n",
    "**Príklad** - Ktoré témy (Topic) majú najvyššie priemerné hodnoty?\n",
    "\n",
    "Hint: Potrebujeme zistiť priemernú hodnotu `DataValueNum` pre každý `Topic`. Výsledky je potrebné zoradiť zostupne a vizualizovať niekoľko (napr. 10) prvých tém s najvyššou priemernou hodnotou v grafe (napr. stĺpcový graf)."
   ],
   "id": "a176ef75cf843c36"
  },
  {
   "metadata": {},
   "cell_type": "code",
   "source": [
    "import matplotlib.pyplot as plt\n",
    "\n",
    "# calculate the mean 'DataValueNum' for each 'Topic'\n",
    "topic_means = data_selected.groupby('Topic', observed=False)['DataValueNum'].mean().reset_index() # reset_index() to convert the result to a DataFrame\n",
    "\n",
    "# sort the topics by the mean 'DataValueNum' in descending order\n",
    "topic_means_sorted = topic_means.sort_values(by='DataValueNum', ascending=False)\n",
    "\n",
    "# select the top 10 topics\n",
    "top10 = topic_means_sorted.head(10)\n",
    "\n",
    "# plot the bar chart\n",
    "top10.plot(kind='bar', x='Topic', y='DataValueNum')\n",
    "plt.title('Prvých 10 tém podľa najvyššej priemernej hodnoty (DataValueNum)')\n",
    "plt.xlabel('Topic')\n",
    "plt.ylabel('Priemer DataValueNum')\n",
    "plt.show()"
   ],
   "id": "6bc69cba658b0382",
   "outputs": [],
   "execution_count": null
  },
  {
   "metadata": {},
   "cell_type": "markdown",
   "source": [
    "**Interpretácia:** Dokážeme rýchlo identifikovať, ktoré oblasti (kardiovaskulárne ochorenia, cukrovka, chronické ochorenia, atď.) vykazujú v datasete najvyššie číselné hodnoty. Napríklad, keď je `DataValueNum` prevalencia, ukáže sa, pri ktorých ochoreniach je na úrovni datasetu priemerná prevalencia najvyššia. (Pre dôkladnejšiu analýzu by sme mali zvážiť aj iné faktory, ako napr. počet záznamov, rozsah hodnôt, atď.)\n",
    "\n",
    "---\n",
    "\n",
    "**Úloha:** Porovnajte priemery `DataValueNum` naprieč jednotlivými štátmi. Analýzu urobte pre konkrétny Topic (napr. Diabetes).\n",
    "\n",
    "Hint: Vyfiltrujte hodnoty pre vybraný Topic. Zistite priemernú hodnotu DataValueNum pre každý štát (LocationAbbr).\n",
    "Zoradené výsledky vypíšte a vytvorte stĺpcový graf pre Top 5 aj Bottom 5 lokalít."
   ],
   "id": "29c09f883a05771a"
  },
  {
   "metadata": {},
   "cell_type": "code",
   "source": [
    "selected_topic = 'Diabetes'\n",
    "\n",
    "# filter the data for the selected topic\n",
    "# TODO\n",
    "\n",
    "# calculate the mean 'DataValueNum' for each 'LocationAbbr' (use reset_index() to convert the result to a DataFrame)\n",
    "# TODO\n",
    "\n",
    "# sort the states by the mean 'DataValueNum' in descending order\n",
    "# TODO\n",
    "\n",
    "# select the top 5 and bottom 5 states\n",
    "\n",
    "# plot the bar chart for the top 5 states\n",
    "\n",
    "# plot the bar chart for the bottom 5 states\n",
    "# TODO"
   ],
   "id": "43ad2c3113338305",
   "outputs": [],
   "execution_count": null
  },
  {
   "metadata": {},
   "cell_type": "markdown",
   "source": [
    "**Úloha:** Zobrazte trend v čase (time series) pre vybraný štát a tému (zistite, ako sa mení `DataValueNum` v čase. Pre vizualizáciu použite **line plot**. (Použite parameter `marker='o'` pre vizualizáciu dátových bodov v trende) **Keďže údaje v datasete pochádzajú z rôznych prieskumov a boli zbierané naprieč rôznymi skupinami, je potrebné pri filtrovaní vybrať aj konkrétnu skupinu pre `ValueType` (napr. hodnota `Crude Prevalence`) a `StratificationCategory1` (napr. hodnota `Overall`)**\n",
    "\n",
    "Hint:\n",
    "Zvoľte si konkrétny štát (napr. CA), tému (napr. Asthma), typ hodnoty (napr. Crude Prevalence) a kategóriu (napr. Overall).\n",
    "Vyfiltrujte dáta podľa výberu z predošlého kroku, aby zostali len záznamy, ktoré spĺňajú vybrané kritériá.\n",
    "Vytvorte čiarový graf (line plot), kde na osi X je `YearStart` a na osi Y je `DataValueNum`.\n",
    "Interpretujte výsledný trend."
   ],
   "id": "6c526d52f9f410f9"
  },
  {
   "metadata": {
    "ExecuteTime": {
     "end_time": "2025-03-20T07:12:26.973629Z",
     "start_time": "2025-03-20T07:12:26.906529Z"
    }
   },
   "cell_type": "code",
   "source": [
    "selected_state = 'CA'\n",
    "selected_topic = 'Asthma'\n",
    "\n",
    "filtered_data = data_selected[\n",
    "    (data_selected['LocationAbbr'] == selected_state) &\n",
    "    (data_selected['Topic'] == selected_topic) &\n",
    "    (data_selected['ValueType'] == 'Crude Prevalence') &\n",
    "    (data_selected['StratificationCategory1'] == 'Overall')]\n",
    "\n",
    "plt.figure(figsize=(8,5))\n",
    "plt.plot(filtered_data['YearStart'], filtered_data['DataValueNum'], marker='o')\n",
    "\n",
    "plt.title(f'Trend {selected_topic} v {selected_state} (v čase)')\n",
    "plt.xlabel('Rok (YearStart)')\n",
    "plt.ylabel('DataValueNum')\n",
    "plt.grid(True)\n",
    "plt.show()\n"
   ],
   "id": "4327d2b2fa4c181f",
   "outputs": [
    {
     "ename": "NameError",
     "evalue": "name 'data_selected' is not defined",
     "output_type": "error",
     "traceback": [
      "\u001B[1;31m---------------------------------------------------------------------------\u001B[0m",
      "\u001B[1;31mNameError\u001B[0m                                 Traceback (most recent call last)",
      "Cell \u001B[1;32mIn[10], line 4\u001B[0m\n\u001B[0;32m      1\u001B[0m selected_state \u001B[38;5;241m=\u001B[39m \u001B[38;5;124m'\u001B[39m\u001B[38;5;124mCA\u001B[39m\u001B[38;5;124m'\u001B[39m\n\u001B[0;32m      2\u001B[0m selected_topic \u001B[38;5;241m=\u001B[39m \u001B[38;5;124m'\u001B[39m\u001B[38;5;124mAsthma\u001B[39m\u001B[38;5;124m'\u001B[39m\n\u001B[1;32m----> 4\u001B[0m filtered_data \u001B[38;5;241m=\u001B[39m \u001B[43mdata_selected\u001B[49m[\n\u001B[0;32m      5\u001B[0m     (data_selected[\u001B[38;5;124m'\u001B[39m\u001B[38;5;124mLocationAbbr\u001B[39m\u001B[38;5;124m'\u001B[39m] \u001B[38;5;241m==\u001B[39m selected_state) \u001B[38;5;241m&\u001B[39m\n\u001B[0;32m      6\u001B[0m     (data_selected[\u001B[38;5;124m'\u001B[39m\u001B[38;5;124mTopic\u001B[39m\u001B[38;5;124m'\u001B[39m] \u001B[38;5;241m==\u001B[39m selected_topic) \u001B[38;5;241m&\u001B[39m\n\u001B[0;32m      7\u001B[0m     (data_selected[\u001B[38;5;124m'\u001B[39m\u001B[38;5;124mValueType\u001B[39m\u001B[38;5;124m'\u001B[39m] \u001B[38;5;241m==\u001B[39m \u001B[38;5;124m'\u001B[39m\u001B[38;5;124mCrude Prevalence\u001B[39m\u001B[38;5;124m'\u001B[39m) \u001B[38;5;241m&\u001B[39m\n\u001B[0;32m      8\u001B[0m     (data_selected[\u001B[38;5;124m'\u001B[39m\u001B[38;5;124mStratificationCategory1\u001B[39m\u001B[38;5;124m'\u001B[39m] \u001B[38;5;241m==\u001B[39m \u001B[38;5;124m'\u001B[39m\u001B[38;5;124mOverall\u001B[39m\u001B[38;5;124m'\u001B[39m)]\n\u001B[0;32m     10\u001B[0m plt\u001B[38;5;241m.\u001B[39mfigure(figsize\u001B[38;5;241m=\u001B[39m(\u001B[38;5;241m8\u001B[39m,\u001B[38;5;241m5\u001B[39m))\n\u001B[0;32m     11\u001B[0m plt\u001B[38;5;241m.\u001B[39mplot(filtered_data[\u001B[38;5;124m'\u001B[39m\u001B[38;5;124mYearStart\u001B[39m\u001B[38;5;124m'\u001B[39m], filtered_data[\u001B[38;5;124m'\u001B[39m\u001B[38;5;124mDataValueNum\u001B[39m\u001B[38;5;124m'\u001B[39m], marker\u001B[38;5;241m=\u001B[39m\u001B[38;5;124m'\u001B[39m\u001B[38;5;124mo\u001B[39m\u001B[38;5;124m'\u001B[39m)\n",
      "\u001B[1;31mNameError\u001B[0m: name 'data_selected' is not defined"
     ]
    }
   ],
   "execution_count": 10
  },
  {
   "metadata": {},
   "cell_type": "markdown",
   "source": [
    "**Interpretácia:** Ak DataValueNum reprezentuje napr. percento obéznych ľudí, vidíme, ako sa miera obezity menila v priebehu rokov v Kalifornii.\n",
    "\n",
    "---\n",
    "\n",
    "**Úloha:** Vytvorte koláčový graf (`pie` chart) pre počet hodnôt v kategóriách premennej `Topic`. Dáva použitie tohto grafu zmysel ?"
   ],
   "id": "a5fd635de29a6940"
  },
  {
   "metadata": {
    "ExecuteTime": {
     "end_time": "2025-03-20T07:14:13.106659Z",
     "start_time": "2025-03-20T07:14:13.082593Z"
    }
   },
   "cell_type": "code",
   "source": [
    "# TODO\n",
    "topic_counts = data_selected['Topic'].value_counts()\n",
    "\n",
    "# Create a pie chart\n",
    "plt.figure(figsize=(15, 15))\n",
    "plt.pie(topic_counts, labels=topic_counts.index, autopct='%1.1f%%', startangle=140)\n",
    "plt.title('Distribution of Topics')\n",
    "plt.axis('equal')  # Equal aspect ratio ensures that pie is drawn as a circle.\n",
    "\n",
    "# Display the plot\n",
    "plt.show()\n"
   ],
   "id": "c028a2694a054f4e",
   "outputs": [
    {
     "ename": "NameError",
     "evalue": "name 'data_selected' is not defined",
     "output_type": "error",
     "traceback": [
      "\u001B[1;31m---------------------------------------------------------------------------\u001B[0m",
      "\u001B[1;31mNameError\u001B[0m                                 Traceback (most recent call last)",
      "Cell \u001B[1;32mIn[11], line 2\u001B[0m\n\u001B[0;32m      1\u001B[0m \u001B[38;5;66;03m# TODO\u001B[39;00m\n\u001B[1;32m----> 2\u001B[0m topic_counts \u001B[38;5;241m=\u001B[39m \u001B[43mdata_selected\u001B[49m[\u001B[38;5;124m'\u001B[39m\u001B[38;5;124mTopic\u001B[39m\u001B[38;5;124m'\u001B[39m]\u001B[38;5;241m.\u001B[39mvalue_counts()\n\u001B[0;32m      4\u001B[0m \u001B[38;5;66;03m# Create a pie chart\u001B[39;00m\n\u001B[0;32m      5\u001B[0m plt\u001B[38;5;241m.\u001B[39mfigure(figsize\u001B[38;5;241m=\u001B[39m(\u001B[38;5;241m15\u001B[39m, \u001B[38;5;241m15\u001B[39m))\n",
      "\u001B[1;31mNameError\u001B[0m: name 'data_selected' is not defined"
     ]
    }
   ],
   "execution_count": 11
  },
  {
   "metadata": {},
   "cell_type": "markdown",
   "source": "**Príklad:** Porovnanie priemerných hodnôt `DataValueNum` pre vybrané roky (2019, 2020, 2021) pomocou viacerých stĺpcových grafov. Zobrazenie viacerých grafov v jednom obrázku nastavíte parametrom `subplots=True`. Metóda `pivot_table` vytvorí tabuľku, kde riadky budú `LocationAbbr` a stĺpce `YearStart`. Metóda `.isin()` umožní filtrovať dáta podľa zoznamu hodnôt - [Dokumentácia isin](https://pandas.pydata.org/docs/reference/api/pandas.DataFrame.isin.html).\n",
   "id": "ecac31d8d5d1b032"
  },
  {
   "metadata": {
    "ExecuteTime": {
     "end_time": "2025-03-20T07:14:54.542142Z",
     "start_time": "2025-03-20T07:14:54.517226Z"
    }
   },
   "cell_type": "code",
   "source": [
    "import pandas as pd\n",
    "import matplotlib.pyplot as plt\n",
    "\n",
    "# Filter the data for the selected years\n",
    "selected_years = [2019, 2020, 2021]\n",
    "filtered_data = data_selected[data_clean['YearStart'].isin(selected_years)]\n",
    "\n",
    "# Create a pivot table with 'LocationAbbr' as index and 'YearStart' as columns\n",
    "pivot_table = filtered_data.pivot_table(\n",
    "    values='DataValueNum',\n",
    "    index='LocationAbbr',\n",
    "    columns='YearStart',\n",
    "    aggfunc='mean'\n",
    ")\n",
    "\n",
    "# Plot the bar chart\n",
    "pivot_table.plot(kind='bar', figsize=(12, 6), subplots=True)\n",
    "plt.suptitle('Average DataValueNum for Selected Years')\n",
    "plt.show()"
   ],
   "id": "3ad51ac7820b61da",
   "outputs": [
    {
     "ename": "NameError",
     "evalue": "name 'data_selected' is not defined",
     "output_type": "error",
     "traceback": [
      "\u001B[1;31m---------------------------------------------------------------------------\u001B[0m",
      "\u001B[1;31mNameError\u001B[0m                                 Traceback (most recent call last)",
      "Cell \u001B[1;32mIn[12], line 6\u001B[0m\n\u001B[0;32m      4\u001B[0m \u001B[38;5;66;03m# Filter the data for the selected years\u001B[39;00m\n\u001B[0;32m      5\u001B[0m selected_years \u001B[38;5;241m=\u001B[39m [\u001B[38;5;241m2019\u001B[39m, \u001B[38;5;241m2020\u001B[39m, \u001B[38;5;241m2021\u001B[39m]\n\u001B[1;32m----> 6\u001B[0m filtered_data \u001B[38;5;241m=\u001B[39m \u001B[43mdata_selected\u001B[49m[data_clean[\u001B[38;5;124m'\u001B[39m\u001B[38;5;124mYearStart\u001B[39m\u001B[38;5;124m'\u001B[39m]\u001B[38;5;241m.\u001B[39misin(selected_years)]\n\u001B[0;32m      8\u001B[0m \u001B[38;5;66;03m# Create a pivot table with 'LocationAbbr' as index and 'YearStart' as columns\u001B[39;00m\n\u001B[0;32m      9\u001B[0m pivot_table \u001B[38;5;241m=\u001B[39m filtered_data\u001B[38;5;241m.\u001B[39mpivot_table(\n\u001B[0;32m     10\u001B[0m     values\u001B[38;5;241m=\u001B[39m\u001B[38;5;124m'\u001B[39m\u001B[38;5;124mDataValueNum\u001B[39m\u001B[38;5;124m'\u001B[39m,\n\u001B[0;32m     11\u001B[0m     index\u001B[38;5;241m=\u001B[39m\u001B[38;5;124m'\u001B[39m\u001B[38;5;124mLocationAbbr\u001B[39m\u001B[38;5;124m'\u001B[39m,\n\u001B[0;32m     12\u001B[0m     columns\u001B[38;5;241m=\u001B[39m\u001B[38;5;124m'\u001B[39m\u001B[38;5;124mYearStart\u001B[39m\u001B[38;5;124m'\u001B[39m,\n\u001B[0;32m     13\u001B[0m     aggfunc\u001B[38;5;241m=\u001B[39m\u001B[38;5;124m'\u001B[39m\u001B[38;5;124mmean\u001B[39m\u001B[38;5;124m'\u001B[39m\n\u001B[0;32m     14\u001B[0m )\n",
      "\u001B[1;31mNameError\u001B[0m: name 'data_selected' is not defined"
     ]
    }
   ],
   "execution_count": 12
  },
  {
   "metadata": {},
   "cell_type": "markdown",
   "source": [
    "---\n",
    "\n",
    "## **8. Analýza (analyze)**\n",
    "\n",
    "V tejto fáze môžeme použiť rôzne **štatistické metódy** (napr. korelácia, testy hypotéz) alebo **strojové učenie** (napr. regresiu, klasifikáciu) na predikciu alebo zhlukovanie dát.\n",
    "\n",
    "- **Korelácia**: zistíme, ako spolu súvisia dva (či viac) numerických stĺpcov.\n",
    "- **Regresia**: ak chceme predpovedať `DataValueNum` na základe iných premenných.\n",
    "- **Klasifikácia**: ak by sme mali stĺpec s triedami (napr. `Topic` s viacerými kategóriami) a chceli by sme predikovať.\n",
    "- **Zhlukovanie (clustering)**: ak hľadáme skupiny podobných záznamov.\n",
    "- **Hypotézy**: testy hypotéz (t-test, ANOVA) nám pomôžu overiť, či sú dáta štatisticky signifikantné.\n",
    "- **Outlier detection**: detekcia extrémnych hodnôt, ktoré môžu narušiť analýzu.\n",
    "- **Ďalšie**: PCA, feature selection, cross-validation, atď.\n",
    "- Môžeme použiť aj **neurónové siete** alebo **reinforcement learning**.\n",
    "\n",
    "Môžeme použiť:\n",
    "- .corr() – vypočíta korelácie medzi numerickými stĺpcami - [Dokumentácia corr](https://pandas.pydata.org/docs/reference/api/pandas.DataFrame.corr.html)\n",
    "- ttest_ind() – vykoná t-test na overenie hypotéz - [Dokumentácia ttest_ind](https://docs.scipy.org/doc/scipy/reference/generated/scipy.stats.ttest_ind.html)\n",
    "- zscore() – vypočíta z-score pre detekciu outlierov - [Dokumentácia zscore](https://docs.scipy.org/docs/scipy/reference/generated/scipy.stats.zscore.html)\n",
    "\n",
    "+ **Knižnice**: Na analýzu dát môžeme použiť **scikit-learn**, **statsmodels**, **seaborn**, **scipy**, **numpy**, **pandas**, **torch** alebo **tensorflow**.\n",
    "\n",
    "**Prečo to robiť**\n",
    "- Pomáha nám to pochopiť dáta a vzťahy medzi nimi.\n",
    "- Môžeme odhaliť zaujímavé vzory alebo trendy.\n",
    "- Môžeme predikovať budúce hodnoty alebo klasifikovať nové záznamy.\n",
    "- Môžeme overiť hypotézy alebo zistiť, či sú dáta štatisticky signifikantné.\n",
    "- Môžeme detegovať outlierov alebo zhlukovať podobné záznamy.\n",
    "- Môžeme vytvoriť prediktívne modely pre rôzne úlohy.\n",
    "\n",
    "\n",
    "Korelácia popisuje vzájomné vzťahy medzi premennými. Premenné sa môžu navzájom ovplyvňovať, čo môže byť lineárne alebo nelineárne. Vizualizácia korelácie je užitočná pre jednoduché pochopenie, či je možné pomocou vybraných premenných jednoznačne oddeliť hodnoty závislej premennej.\n",
    "    - Hodnota korelácie je v intervale <-1, 1>\n",
    "    - pozitívna (1) - so zvyšovaním jednej premennej sa zvyšuje aj druhá\n",
    "    - negatívna (-1) - so zvyšovaním jednej premennej sa druhá premenná znižuje\n",
    "    - nulová (0) - premenné sa neovplyvňujú\n",
    "\n",
    "Korelácia neznamená kauzalitu - dva javy sa môžu ukazovať ako závislé, ale neznamená to, že jeden spôsobuje vznik druhého.\n",
    "\n",
    "**Príklad** – Korelácia"
   ],
   "id": "e262436aa4d57eae"
  },
  {
   "metadata": {},
   "cell_type": "code",
   "source": "# pip install seaborn",
   "id": "48341992f0058d",
   "outputs": [],
   "execution_count": null
  },
  {
   "metadata": {
    "ExecuteTime": {
     "end_time": "2025-03-20T07:15:07.043904Z",
     "start_time": "2025-03-20T07:15:07.000949Z"
    }
   },
   "cell_type": "code",
   "source": [
    "import seaborn as sns\n",
    "\n",
    "plt.figure(figsize=(13, 13))\n",
    "# Korelačná matica (numeric_only=True v novších verziách Pandas)\n",
    "corr_matrix = data_selected.corr(numeric_only=True)\n",
    "\n",
    "# Teplotná mapa korelácií\n",
    "sns.heatmap(corr_matrix, annot=True, fmt='.2f', cmap='coolwarm')\n",
    "plt.title('Correlation Matrix')\n",
    "plt.show()"
   ],
   "id": "55a7acc44ebaaeec",
   "outputs": [
    {
     "ename": "NameError",
     "evalue": "name 'data_selected' is not defined",
     "output_type": "error",
     "traceback": [
      "\u001B[1;31m---------------------------------------------------------------------------\u001B[0m",
      "\u001B[1;31mNameError\u001B[0m                                 Traceback (most recent call last)",
      "Cell \u001B[1;32mIn[13], line 5\u001B[0m\n\u001B[0;32m      3\u001B[0m plt\u001B[38;5;241m.\u001B[39mfigure(figsize\u001B[38;5;241m=\u001B[39m(\u001B[38;5;241m13\u001B[39m, \u001B[38;5;241m13\u001B[39m))\n\u001B[0;32m      4\u001B[0m \u001B[38;5;66;03m# Korelačná matica (numeric_only=True v novších verziách Pandas)\u001B[39;00m\n\u001B[1;32m----> 5\u001B[0m corr_matrix \u001B[38;5;241m=\u001B[39m \u001B[43mdata_selected\u001B[49m\u001B[38;5;241m.\u001B[39mcorr(numeric_only\u001B[38;5;241m=\u001B[39m\u001B[38;5;28;01mTrue\u001B[39;00m)\n\u001B[0;32m      7\u001B[0m \u001B[38;5;66;03m# Teplotná mapa korelácií\u001B[39;00m\n\u001B[0;32m      8\u001B[0m sns\u001B[38;5;241m.\u001B[39mheatmap(corr_matrix, annot\u001B[38;5;241m=\u001B[39m\u001B[38;5;28;01mTrue\u001B[39;00m, fmt\u001B[38;5;241m=\u001B[39m\u001B[38;5;124m'\u001B[39m\u001B[38;5;124m.2f\u001B[39m\u001B[38;5;124m'\u001B[39m, cmap\u001B[38;5;241m=\u001B[39m\u001B[38;5;124m'\u001B[39m\u001B[38;5;124mcoolwarm\u001B[39m\u001B[38;5;124m'\u001B[39m)\n",
      "\u001B[1;31mNameError\u001B[0m: name 'data_selected' is not defined"
     ]
    },
    {
     "data": {
      "text/plain": [
       "<Figure size 1300x1300 with 0 Axes>"
      ]
     },
     "metadata": {},
     "output_type": "display_data"
    }
   ],
   "execution_count": 13
  },
  {
   "metadata": {},
   "cell_type": "markdown",
   "source": [
    "**Úloha:** Vytvorte korelačnú maticu pre vybrané témy z vyfiltrovaných údajov. Pri vytváraní vyfiltrovaných údajov vytvorte pivot tabuľku pre lokality (`LocationAbbr`) ako index a `Topic` ako stĺpce. Ako hodnoty použite priemernú hodnotu `DataValueNum`.\n",
    " Ďalej zvážte len hodnoty pre rok 2020 a typ hodnoty `Crude Prevalence`.\n",
    " a zobrazte ju pomocou heatmapy. Aké závislosti medzi premennými vidíte?\n",
    "\n",
    "Hint:\n",
    "Zvoľte si konkrétne témy (napr. Diabetes, Cancer, Obesity).\n",
    "Vyfiltrujte dáta pre vybrané témy.\n",
    "Vyfiltrujte dáta podľa `YearStart` pre rok 2020 a `ValueType` pre `Crude Prevalence`, aby boli analyzované dáta rovnakého typu.\n",
    "Vytvorte pivot tabuľku pre lokality (`LocationAbbr`) ako index a `Topic` ako stĺpce. Ako hodnoty použite priemernú hodnotu `DataValueNum`.\n",
    "Vypočítajte korelačnú maticu.\n",
    "Zobrazte heatmapu korelačnej matice.\n"
   ],
   "id": "ce00516a91f36931"
  },
  {
   "metadata": {},
   "cell_type": "code",
   "source": [
    "# lists all available values in Topic variable\n",
    "data_clean['Topic'].cat.categories\n",
    "\n",
    "selected_topics = ['Chronic Obstructive Pulmonary Disease',\n",
    "       'Cognitive Health and Caregiving', 'Diabetes', 'Disability',\n",
    "       'Health Status', 'Immunization', 'Maternal Health', 'Mental Health',\n",
    "       'Nutrition, Physical Activity, and Weight Status', 'Oral Health',\n",
    "       'Sleep', 'Social Determinants of Health', 'Tobacco']\n",
    "\n",
    "# filter the data for the selected topics\n",
    "# TODO\n",
    "\n",
    "# filter the data for the year 2020 and ValueType 'Crude Prevalence'\n",
    "# TODO\n",
    "\n",
    "# create a pivot table\n",
    "# TODO\n",
    "\n",
    "# create the correlation matrix\n",
    "# TODO\n",
    "\n",
    "# display the heatmap\n",
    "plt.figure(figsize=(10,10))\n",
    "sns.heatmap(corr_matrix, annot=True, cmap='coolwarm', vmin=-1, vmax=1)\n",
    "plt.title('Korelačná matica vybraných rizikových faktorov (2020)')\n",
    "plt.show()\n"
   ],
   "id": "744f237a00814bbd",
   "outputs": [],
   "execution_count": null
  },
  {
   "metadata": {},
   "cell_type": "markdown",
   "source": "**Úloha:** Uveďte medzi ktorými témami je najvyššia korelácia a aké závislosti medzi nimi vidíte?",
   "id": "3b5010111b907dcd"
  },
  {
   "metadata": {},
   "cell_type": "code",
   "source": "",
   "id": "2fb614704cf8ed48",
   "outputs": [],
   "execution_count": null
  },
  {
   "metadata": {},
   "cell_type": "markdown",
   "source": [
    "**Príklad** – Jednoduchý test hypotézy\n",
    "\n",
    "**T-test**\n",
    "- Štatistický test, ktorý sa používa na porovnávanie priemerných hodnôt medzi dvoma (alebo niekedy jednou) skupinami.\n",
    "- Cieľom je zistiť, či sa pozorované rozdiely v priemeroch dajú pripísať náhode, alebo či sú štatisticky významné.\n",
    "\n",
    "Jednovýberový t-test (one-sample t-test): Porovnáva priemer jednej skupiny voči nejakej známej (teoretickej) hodnote.\n",
    "\n",
    "Dvojvýberový t-test (two-sample t-test): Porovnáva priemery dvoch nezávislých skupín (napr. experimentálna vs. kontrolná skupina).\n",
    "\n",
    "Párový t-test (paired t-test): Porovnáva priemery dvoch meraní na tých istých subjektoch (napr. pred a po intervencii).\n",
    "\n",
    "Pomocou t-testu môžeme napr. overiť, či je priemerné `DataValueNum` pre tému `Diabetes` signifikantne vyššie než pre tému `Asthma` - [Dokumentácia ttest_ind](https://docs.scipy.org/docs/scipy/reference/generated/scipy.stats.ttest_ind.html).\n",
    "\n",
    "hodnota t-stat:\n",
    "Vyjadruje hodnotu, o koľko štandardných chýb sa priemer jednej (alebo rozdiel priemerov dvoch) skupiny(-n) odchýli od teoretickej nulovej hypotézy.\n",
    "\n",
    "p-hodnota:\n",
    "Vyjadruje pravdepodobnosť, že dostaneme taký alebo ešte väčší rozdiel (resp. vyššiu t-štatistiku), ak by nulová hypotéza bola v skutočnosti pravdivá (teda ak by medzi skupinami nebol skutočný rozdiel).\n",
    "Ak je p-hodnota veľmi malá (napríklad menšia ako 0,05), zvyčajne hovoríme, že rozdiel je štatisticky významný – je málo pravdepodobné, že vznikol čisto náhodou.\n",
    "Ak je p-hodnota veľká (napr. > 0,05), pozorovaný rozdiel môže byť dôsledkom náhodnej variability a nemôžeme zamietnuť nulovú hypotézu."
   ],
   "id": "53de744d81abace0"
  },
  {
   "metadata": {},
   "cell_type": "code",
   "source": "# pip install scipy",
   "id": "77f95f6e7e91544c",
   "outputs": [],
   "execution_count": null
  },
  {
   "metadata": {},
   "cell_type": "code",
   "source": [
    "from scipy.stats import ttest_ind\n",
    "\n",
    "diabetes_vals = data_selected.loc[(data_selected['Topic']=='Tobacco') & (data_selected['ValueType']=='Crude Prevalence'), 'DataValueNum'].dropna()\n",
    "asthma_vals = data_selected.loc[(data_selected['Topic']=='Asthma') & (data_selected['ValueType']=='Crude Prevalence'), 'DataValueNum'].dropna()\n",
    "\n",
    "stat, p_value = ttest_ind(diabetes_vals, asthma_vals, equal_var=False)\n",
    "\n",
    "print(\"Test stat:\", stat)\n",
    "print(\"p-value:\", p_value)\n",
    "\n",
    "# Interpretation\n",
    "if p_value < 0.05:\n",
    "    print(\"The average DataValueNum for Cancer is significantly different from Sleep.\")\n",
    "else:\n",
    "    print(\"There is no significant difference in the average DataValueNum between Cancer and Sleep.\")"
   ],
   "id": "fcf03059c4288353",
   "outputs": [],
   "execution_count": null
  },
  {
   "metadata": {},
   "cell_type": "markdown",
   "source": [
    "**Interpretácia:** Ak je p-hodnota nízka (napr. < 0.05), máme dôkaz, že priemer diabetes je štatisticky iný ako priemer asthma.\n",
    "\n",
    "**Úloha:** Vyskúšajte to pre iné dve témy (napr. Sleep a Cancer) a interpretujte výsledok.\n"
   ],
   "id": "9e462ce675bd6dce"
  },
  {
   "metadata": {},
   "cell_type": "code",
   "source": "# TODO",
   "id": "555642371e5eaec2",
   "outputs": [],
   "execution_count": null
  },
  {
   "metadata": {},
   "cell_type": "markdown",
   "source": [
    "---\n",
    "### **Zhrnutie**\n",
    "\n",
    "Základné kroky analýzy dát v Pythone zahŕňajú:\n",
    "1. **Objavovanie**: základné informácie o datasete.\n",
    "2. **Očistenie**: odstránenie chýbajúcich hodnôt, duplicitných záznamov.\n",
    "3. **Úpravy**: vytvorenie nových stĺpcov, pivotovanie dát.\n",
    "4. **Popis**: základná štatistika, zoskupenie dát.\n",
    "5. **Vizualizácia**: zobrazenie distribúcie, korelácií, vzťahov.\n",
    "6. **Analýza**: štatistické testy, detekcia outlierov, predikcia.\n",
    "\n",
    "Tieto kroky tvoria základ dátovej analytiky v Pythone. Dôležitou časťou je správne pochopenie dát a ich kontextu, aby sme vedeli aplikovať správne metódy analýzy a interpretovať výsledky.\n",
    "\n"
   ],
   "id": "3b537fa94fcce2f2"
  }
 ],
 "metadata": {
  "kernelspec": {
   "display_name": "Python 3",
   "language": "python",
   "name": "python3"
  },
  "language_info": {
   "codemirror_mode": {
    "name": "ipython",
    "version": 2
   },
   "file_extension": ".py",
   "mimetype": "text/x-python",
   "name": "python",
   "nbconvert_exporter": "python",
   "pygments_lexer": "ipython2",
   "version": "2.7.6"
  }
 },
 "nbformat": 4,
 "nbformat_minor": 5
}
