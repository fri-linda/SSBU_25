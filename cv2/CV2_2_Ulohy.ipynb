{
 "cells": [
  {
   "cell_type": "markdown",
   "id": "497228f1-fa14-47b6-83a1-7038726dc50c",
   "metadata": {},
   "source": [
    "## Doplnkové Úlohy\n",
    "\n",
    "---\n",
    "#### Úloha 1: Klasifikácia veku pacienta\n",
    "\n",
    "Vytvorte funkciu, ktorá každého pacienta zaradí do kategórie `minor` (<18 rokov), `adult` (18-65 rokov) alebo `senior` (>65 rokov). \n",
    "- Vstupom do funkcie je parameter `ages`, čo je štruktúra `list` obsahujúca vek niekoľkých pacientov.\n",
    "- Funkcia vracia štruktúru `dictionary`, ktorá pre každú kategóriu obsahuje počet pacientov v nej.\n",
    "- Vytvorte list `ages`, ktorý bude obsahovať aspoň 5 pacientov a vypíšte, počet pacientov podľa veku v jednotlivých kategóriách."
   ]
  },
  {
   "metadata": {
    "ExecuteTime": {
     "end_time": "2025-02-27T08:17:18.797099Z",
     "start_time": "2025-02-27T08:17:18.791896Z"
    }
   },
   "cell_type": "code",
   "source": [
    "def classify_ages(ages):\n",
    "    categories = {'minor': 0, 'adult': 0, 'senior': 0}\n",
    "    for age in ages:\n",
    "        if age < 18:\n",
    "            categories['minor'] += 1\n",
    "        elif 18 <= age <= 65:\n",
    "            categories['adult'] += 1\n",
    "        else:\n",
    "            categories['senior'] += 1\n",
    "    return categories\n",
    "\n",
    "ages = [15, 25, 30, 67, 70, 80 , 90]\n",
    "age_categories = classify_ages(ages)\n",
    "print(\"Age categories:\", age_categories)"
   ],
   "id": "84daf6f6295fc876",
   "outputs": [
    {
     "name": "stdout",
     "output_type": "stream",
     "text": [
      "Age categories: {'minor': 1, 'adult': 2, 'senior': 2}\n"
     ]
    }
   ],
   "execution_count": 1
  },
  {
   "cell_type": "markdown",
   "id": "6a2eea7a-b43c-4e09-9040-210983983d22",
   "metadata": {},
   "source": [
    "#### Úloha 2: Spracovanie súborov s údajmi o pacientoch\n",
    "\n",
    "Zapište údaje o pacientoch (meno, diagnóza) do súboru s názvom `data/patients.csv`."
   ]
  },
  {
   "cell_type": "raw",
   "id": "b0cfcd94-236a-4423-beaf-24483826a3cc",
   "metadata": {},
   "source": [
    "data = [\n",
    "    [\"Terri Mcmillan\", \"Hypertension\"],\n",
    "    [\"David Thomas\", \"Diabetes\"],\n",
    "    [\"Joshua Stewart\", \"Diabetes\"],\n",
    "    [\"Jeffrey Martinez\", \"Depression\"],\n",
    "    [\"Victor Roth\", \"Chronic Pain\"],\n",
    "    [\"Timothy Schwartz\", \"Chronic Pain\"],\n",
    "    [\"Desiree Palmer\", \"Hypertension\"],\n",
    "    [\"Nathan Leonard\", \"Asthma\"],\n",
    "    [\"Sara Lane\", \"Chronic Pain\"],\n",
    "    [\"Ronald Riley\", \"Asthma\"],\n",
    "    [\"Brian Roberts\", \"Depression\"],\n",
    "    [\"Angel Harrington\", \"Hypertension\"],\n",
    "    [\"Christina Hernandez\", \"Hypertension\"],\n",
    "    [\"Christina Garza\", \"Asthma\"],\n",
    "    [\"Joshua Armstrong\", \"Diabetes\"],\n",
    "    [\"Lisa King\", \"Depression\"],\n",
    "    [\"Erica Ferguson\", \"Diabetes\"],\n",
    "    [\"Jesus Hansen\", \"Asthma\"],\n",
    "    [\"Michael Thompson\", \"Chronic Pain\"],\n",
    "    [\"Alexander Barajas\", \"Asthma\"]\n",
    "]"
   ]
  },
  {
   "cell_type": "code",
   "id": "307144ea-c176-42dd-b2ca-e6bf64ba6227",
   "metadata": {},
   "source": [
    "import csv\n",
    "\n",
    "data = [\n",
    "    [\"Terri Mcmillan\", \"Hypertension\"],\n",
    "    [\"David Thomas\", \"Diabetes\"],\n",
    "    [\"Joshua Stewart\", \"Diabetes\"],\n",
    "    [\"Jeffrey Martinez\", \"Depression\"],\n",
    "    [\"Victor Roth\", \"Chronic Pain\"],\n",
    "    [\"Timothy Schwartz\", \"Chronic Pain\"],\n",
    "    [\"Desiree Palmer\", \"Hypertension\"],\n",
    "    [\"Nathan Leonard\", \"Asthma\"],\n",
    "    [\"Sara Lane\", \"Chronic Pain\"],\n",
    "    [\"Ronald Riley\", \"Asthma\"],\n",
    "    [\"Brian Roberts\", \"Depression\"],\n",
    "    [\"Angel Harrington\", \"Hypertension\"],\n",
    "    [\"Christina Hernandez\", \"Hypertension\"],\n",
    "    [\"Christina Garza\", \"Asthma\"],\n",
    "    [\"Joshua Armstrong\", \"Diabetes\"],\n",
    "    [\"Lisa King\", \"Depression\"],\n",
    "    [\"Erica Ferguson\", \"Diabetes\"],\n",
    "    [\"Jesus Hansen\", \"Asthma\"],\n",
    "    [\"Michael Thompson\", \"Chronic Pain\"],\n",
    "    [\"Alexander Barajas\", \"Asthma\"]\n",
    "]\n",
    "\n",
    "file_path = 'data/patients.csv'\n",
    "\n",
    "with open(file_path, mode='w', newline='') as file:\n",
    "    writer = csv.writer(file)\n",
    "    writer.writerow([\"Name\", \"Diagnosis\"])\n",
    "    writer.writerows(data)"
   ],
   "outputs": [],
   "execution_count": null
  },
  {
   "cell_type": "markdown",
   "id": "b5c43341-bbc8-4073-8c66-fec5371c9486",
   "metadata": {},
   "source": [
    "#### Úloha 3: Načítanie údajov do štruktúry DataFrame a ich vizualizácia\n",
    "\n",
    "Načítajte údaje zo súboru `data/patients.csv` do štruktúry DataFrame (knižnica Pandas).\n",
    "- Vytvorte hlavičku pre tento DataFrame (pridajte názvy stĺpcov - `name` a `diagnosis`)\n",
    "- Pridajte do štruktúry DataFrame nový stĺpec s názvom \"ID\". hodnoty tohto stĺpca tvorí sekvencia čísel od 0 do 19.\n",
    "- Vypíšte hodnoty v stĺpci `diagnosis` a počet hodnôt pre jednotlivé diagnózy."
   ]
  },
  {
   "metadata": {},
   "cell_type": "code",
   "source": [
    "import pandas as pd\n",
    "\n",
    "df = pd.read_csv('data/patients.csv', header=None, names=['name', 'diagnosis'])\n",
    "\n",
    "df['ID'] = range(len(df))\n",
    "\n",
    "print(\"Values in the 'diagnosis' column:\")\n",
    "print(df['diagnosis'])\n",
    "\n",
    "print(\"\\nCount of each diagnosis:\")\n",
    "print(df['diagnosis'].value_counts())"
   ],
   "id": "eebfc61aa9ed1419",
   "outputs": [],
   "execution_count": null
  },
  {
   "metadata": {},
   "cell_type": "markdown",
   "source": [
    "#### Úloha 4: Práca s obrazom\n",
    "Načítajte obrázok data/microscope_g.jpg a vykonajte na ňom operáciu priblíženia a orezania, tak aby na obrázku boli viditeľné iba bunky, nie okulár mikroskopu. (Použite súradnice (300, 550, 1000, 1250) - (left, top, right, bottom)) Nakoniec obrázok zobrazte.\n",
    "\n",
    "Použite funkcie knižnice PIL:\n",
    "   - `Image.open()` - [Dokumentácia open](https://pillow.readthedocs.io/en/stable/reference/Image.html#PIL.Image.open)\n",
    "   - `Image.resize()` - [Dokumentácia resize](https://pillow.readthedocs.io/en/stable/reference/Image.html#PIL.Image.Image.resize)\n",
    "   - `Image.crop()` - [Dokumentácia crop](https://pillow.readthedocs.io/en/stable/reference/Image.html#PIL.Image.Image.crop)\n",
    "   - `Image.show()` - [Dokumentácia show](https://pillow.readthedocs.io/en/stable/reference/Image.html#PIL.Image.Image.show)"
   ],
   "id": "38f28c45201f7d75"
  },
  {
   "metadata": {},
   "cell_type": "code",
   "source": [
    "from PIL import Image\n",
    "\n",
    "image_path = 'data/microscope_g.jpg'\n",
    "image = Image.open(image_path)\n",
    "\n",
    "crop_box = (300, 550, 1000, 1250)\n",
    "\n",
    "cropped_image = image.crop(crop_box)\n",
    "cropped_image.show()"
   ],
   "id": "b249c9455708945f",
   "outputs": [],
   "execution_count": null
  },
  {
   "metadata": {},
   "cell_type": "markdown",
   "source": [
    "#### Úloha 5: Vytvorenie triedy a analýza pacientov\n",
    "Vytvorte triedu `PatientData`, ktorá načíta údaje zo CSV súboru do DataFrame a umožní základnú analýzu.\n",
    "- Načítanie CSV súboru v konštruktore (použite súbor `data/patients.csv`) a uloženie do atribútu typu **DataFrame**.\n",
    "- Metóda `count_diagnoses()`, ktorá vráti počet pacientov s jednotlivými diagnózami.\n",
    "- Metóda `get_most_common_diagnosis(n)`, ktorá vráti n najčastejších diagnóz.\n",
    "- Metóda `display_summary()`, ktorá zobrazí základné štatistiky."
   ],
   "id": "8217934c0f610b83"
  },
  {
   "metadata": {},
   "cell_type": "code",
   "source": [
    "import pandas as pd\n",
    "\n",
    "class PatientData:\n",
    "    def __init__(self, file_path):\n",
    "        self.df = pd.read_csv(file_path)\n",
    "\n",
    "    def count_diagnoses(self):\n",
    "        return self.df['diagnosis'].value_counts()\n",
    "\n",
    "    def get_most_common_diagnosis(self, n):\n",
    "        return self.df['diagnosis'].value_counts().head(n)\n",
    "\n",
    "    def display_summary(self):\n",
    "        return self.df.describe()\n",
    "\n",
    "file_path = 'data/patients.csv'\n",
    "patient_data = PatientData(file_path)\n",
    "\n",
    "print(\"Count of diagnoses:\")\n",
    "print(patient_data.count_diagnoses())\n",
    "\n",
    "print(\"\\nMost common diagnoses:\")\n",
    "print(patient_data.get_most_common_diagnosis(3))\n",
    "\n",
    "print(\"\\nSummary statistics:\")\n",
    "print(patient_data.display_summary())"
   ],
   "id": "79bbc777404c6bc6",
   "outputs": [],
   "execution_count": null
  }
 ],
 "metadata": {
  "kernelspec": {
   "display_name": "Python 3 (ipykernel)",
   "language": "python",
   "name": "python3"
  },
  "language_info": {
   "codemirror_mode": {
    "name": "ipython",
    "version": 3
   },
   "file_extension": ".py",
   "mimetype": "text/x-python",
   "name": "python",
   "nbconvert_exporter": "python",
   "pygments_lexer": "ipython3",
   "version": "3.12.1"
  }
 },
 "nbformat": 4,
 "nbformat_minor": 5
}
