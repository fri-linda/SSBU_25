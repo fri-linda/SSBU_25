{
 "cells": [
  {
   "metadata": {},
   "cell_type": "markdown",
   "source": [
    "## Zadanie 1 (5b)\n",
    "\n",
    "V tomto zadaní budete pracovať s datasetom Heart Failure Clinical Records, ktorý obsahuje záznamy pacientov so zlyhaním srdca, zozbierané počas obdobia ich sledovania.\n",
    "\n",
    "Dataset je dostupný online: https://archive.ics.uci.edu/dataset/519/heart+failure+clinical+records\n",
    "\n",
    "Na stránke nájdete aj doplňujúce informácie o premenných, ktoré dataset obsahuje. (Odporúčam prečítať :) )\n",
    "\n",
    "**Body dostanete za odpovede na zvýraznené otázky**\n"
   ],
   "id": "a0d00f942eedf598"
  },
  {
   "metadata": {},
   "cell_type": "markdown",
   "source": "### Úloha 1 (1b)",
   "id": "32383f1bd464a159"
  },
  {
   "metadata": {},
   "cell_type": "markdown",
   "source": "Načítajte dataset do premennej `data_hf`.",
   "id": "2318da0381d2822d"
  },
  {
   "metadata": {
    "ExecuteTime": {
     "end_time": "2025-04-02T20:35:02.155771Z",
     "start_time": "2025-04-02T20:35:00.109054Z"
    }
   },
   "cell_type": "code",
   "source": [
    "import pandas as pd\n",
    "\n",
    "data = pd.read_csv(\"heart_failure_clinical_records_dataset.csv\")\n",
    "\n",
    "print(data)"
   ],
   "id": "6fac61335164d6f4",
   "outputs": [
    {
     "name": "stdout",
     "output_type": "stream",
     "text": [
      "      age  anaemia  creatinine_phosphokinase  diabetes  ejection_fraction  \\\n",
      "0    75.0        0                       582         0                 20   \n",
      "1    55.0        0                      7861         0                 38   \n",
      "2    65.0        0                       146         0                 20   \n",
      "3    50.0        1                       111         0                 20   \n",
      "4    65.0        1                       160         1                 20   \n",
      "..    ...      ...                       ...       ...                ...   \n",
      "294  62.0        0                        61         1                 38   \n",
      "295  55.0        0                      1820         0                 38   \n",
      "296  45.0        0                      2060         1                 60   \n",
      "297  45.0        0                      2413         0                 38   \n",
      "298  50.0        0                       196         0                 45   \n",
      "\n",
      "     high_blood_pressure  platelets  serum_creatinine  serum_sodium  sex  \\\n",
      "0                      1  265000.00               1.9           130    1   \n",
      "1                      0  263358.03               1.1           136    1   \n",
      "2                      0  162000.00               1.3           129    1   \n",
      "3                      0  210000.00               1.9           137    1   \n",
      "4                      0  327000.00               2.7           116    0   \n",
      "..                   ...        ...               ...           ...  ...   \n",
      "294                    1  155000.00               1.1           143    1   \n",
      "295                    0  270000.00               1.2           139    0   \n",
      "296                    0  742000.00               0.8           138    0   \n",
      "297                    0  140000.00               1.4           140    1   \n",
      "298                    0  395000.00               1.6           136    1   \n",
      "\n",
      "     smoking  time  DEATH_EVENT  \n",
      "0          0     4            1  \n",
      "1          0     6            1  \n",
      "2          1     7            1  \n",
      "3          0     7            1  \n",
      "4          0     8            1  \n",
      "..       ...   ...          ...  \n",
      "294        1   270            0  \n",
      "295        0   271            0  \n",
      "296        0   278            0  \n",
      "297        1   280            0  \n",
      "298        1   285            0  \n",
      "\n",
      "[299 rows x 13 columns]\n"
     ]
    }
   ],
   "execution_count": 1
  },
  {
   "metadata": {},
   "cell_type": "markdown",
   "source": "   **Obsahuje dataset chýbajúce hodnoty (NA) ?**",
   "id": "a74a31143f2f3e7e"
  },
  {
   "metadata": {},
   "cell_type": "code",
   "outputs": [],
   "execution_count": null,
   "source": [
    "if data.isnull().sum().sum() > 0:\n",
    "    print(\"Dataset obsahuje chybajuce hodnoty\")\n",
    "else:\n",
    "    print(\"Dataset neobsahuje chybajuce hodnoty\")"
   ],
   "id": "f13894ad98e43a47"
  },
  {
   "cell_type": "raw",
   "id": "87207cc0-87e1-44fc-907a-00d090224c04",
   "metadata": {},
   "source": [
    "\n",
    "    "
   ]
  },
  {
   "metadata": {},
   "cell_type": "markdown",
   "source": [
    "**Aký typ majú vybrané premenné v datasete ? (numerické/kategorické)** (Ak by ste si pri niektorých premenných neboli istí, zdôvodnite svoju odpoveď.)\n",
    "\n",
    "- age\n",
    "- anaemia \n",
    "- high_blood_pressure\n",
    "- serum_sodium\n",
    "- death_event"
   ],
   "id": "adc1f1f593859e2d"
  },
  {
   "metadata": {
    "ExecuteTime": {
     "end_time": "2025-04-02T20:44:09.089987Z",
     "start_time": "2025-04-02T20:44:09.084123Z"
    }
   },
   "cell_type": "code",
   "source": [
    "selected_columns = ['age', 'anaemia', 'high_blood_pressure', 'serum_sodium', 'DEATH_EVENT']\n",
    "\n",
    "for column in selected_columns:\n",
    "    print(f\"{column}: {data[column].dtype}\")"
   ],
   "id": "92931f03b4607809",
   "outputs": [
    {
     "name": "stdout",
     "output_type": "stream",
     "text": [
      "age: float64\n",
      "anaemia: int64\n",
      "high_blood_pressure: int64\n",
      "serum_sodium: int64\n",
      "DEATH_EVENT: int64\n"
     ]
    }
   ],
   "execution_count": 3
  },
  {
   "metadata": {},
   "cell_type": "markdown",
   "source": "**Obsahuje dataset duplicitné záznamy?**",
   "id": "7be617b02c76a071"
  },
  {
   "metadata": {},
   "cell_type": "code",
   "outputs": [],
   "execution_count": null,
   "source": [
    "if data.duplicated().sum() > 0:\n",
    "    print(\"Dataset obsahuje duplicitne zaznamy\")\n",
    "else:\n",
    "    print(\"Dataset neobsahuje duplicitne zaznamy\")"
   ],
   "id": "276ea8c9fd342dab"
  },
  {
   "metadata": {},
   "cell_type": "markdown",
   "source": [
    "### Úloha 2 (1b)\n",
    "\n",
    "Skúmajte premennú pohlavie ('sex'). Premenná je kódovaná hodnotami 0 a 1. ( 0 = žena, 1 = muž)"
   ],
   "id": "4f4d36458b28c7c5"
  },
  {
   "metadata": {
    "ExecuteTime": {
     "end_time": "2025-04-02T20:45:48.050986Z",
     "start_time": "2025-04-02T20:45:48.039832Z"
    }
   },
   "cell_type": "code",
   "source": "",
   "id": "97c7494317e7c82e",
   "outputs": [
    {
     "name": "stdout",
     "output_type": "stream",
     "text": [
      "Dataset neobsahuje duplicitne zaznamy\n"
     ]
    }
   ],
   "execution_count": 4
  },
  {
   "metadata": {},
   "cell_type": "markdown",
   "source": "**Koľko záznamov mužov a žien obsahuje dataset?**",
   "id": "4377d88acf01deb"
  },
  {
   "metadata": {
    "ExecuteTime": {
     "end_time": "2025-04-02T20:52:13.194577Z",
     "start_time": "2025-04-02T20:52:13.186130Z"
    }
   },
   "cell_type": "code",
   "source": [
    "gender_count = data['sex'].value_counts().replace({0: 'zeny', 1: 'muzi'})\n",
    "for gender, count in gender_count.items():\n",
    "    if gender == 0:\n",
    "        print(f\"Zeny: {count}\")\n",
    "    else:\n",
    "        print(f\"Muzi: {count}\")"
   ],
   "id": "ad364252f5fdeeb2",
   "outputs": [
    {
     "name": "stdout",
     "output_type": "stream",
     "text": [
      "Muzi: 194\n",
      "Zeny: 105\n"
     ]
    }
   ],
   "execution_count": 6
  },
  {
   "metadata": {},
   "cell_type": "markdown",
   "source": "**Koľko mužov a žien je nefajčiarov ? (0 = nefajčiar, 1 = fajčiar)**",
   "id": "705ad810245c1f10"
  },
  {
   "metadata": {
    "ExecuteTime": {
     "end_time": "2025-04-02T20:55:35.468307Z",
     "start_time": "2025-04-02T20:55:35.460222Z"
    }
   },
   "cell_type": "code",
   "source": [
    "non_smoker_count = data[data['smoking'] == 0].groupby('sex').size()\n",
    "for gender, count in non_smoker_count.items():\n",
    "    if gender == 0:\n",
    "        print(f\"zeny: {count}\")\n",
    "    elif gender == 1:\n",
    "        print(f\"muzi: {count}\")"
   ],
   "id": "aa16a6e7b08efbc9",
   "outputs": [
    {
     "name": "stdout",
     "output_type": "stream",
     "text": [
      "zeny: 101\n",
      "muzi: 102\n"
     ]
    }
   ],
   "execution_count": 9
  },
  {
   "metadata": {},
   "cell_type": "markdown",
   "source": [
    "### Úloha 3 (1b)\n",
    "\n",
    "Popíšte premennú vek ('age')."
   ],
   "id": "47a3231c5c578c83"
  },
  {
   "metadata": {
    "ExecuteTime": {
     "end_time": "2025-04-02T21:00:01.522640Z",
     "start_time": "2025-04-02T21:00:01.504223Z"
    }
   },
   "cell_type": "code",
   "source": "print(data['age'].describe())",
   "id": "d496c96bba90d2b8",
   "outputs": [
    {
     "name": "stdout",
     "output_type": "stream",
     "text": [
      "count    299.000000\n",
      "mean      60.833893\n",
      "std       11.894809\n",
      "min       40.000000\n",
      "25%       51.000000\n",
      "50%       60.000000\n",
      "75%       70.000000\n",
      "max       95.000000\n",
      "Name: age, dtype: float64\n",
      "Minimalny vek: 40.0\n",
      "Maximalny vek: 95.0\n",
      "Priemerny vek: 60.83389297658862\n"
     ]
    }
   ],
   "execution_count": 11
  },
  {
   "metadata": {},
   "cell_type": "markdown",
   "source": "**Aký je minimálny, maximálny a priemerný vek pacientov v datasete?**",
   "id": "ced4fced3d96aae3"
  },
  {
   "metadata": {},
   "cell_type": "code",
   "outputs": [],
   "execution_count": null,
   "source": [
    "print(f\"Minimalny vek: {data['age'].min()}\")\n",
    "print(f\"Maximalny vek: {data['age'].max()}\")\n",
    "print(f\"Priemerny vek: {data['age'].mean()}\")"
   ],
   "id": "2e657b7e7a173107"
  },
  {
   "metadata": {},
   "cell_type": "markdown",
   "source": "**Z akého veku je v datasete najviac záznamov?**",
   "id": "cf1f8733e3ecace8"
  },
  {
   "metadata": {
    "ExecuteTime": {
     "end_time": "2025-04-02T21:01:27.292780Z",
     "start_time": "2025-04-02T21:01:27.286580Z"
    }
   },
   "cell_type": "code",
   "source": "print(f\"Najcastejsi vek: {data['age'].mode()[0]}\")",
   "id": "11f14bd7c6318434",
   "outputs": [
    {
     "name": "stdout",
     "output_type": "stream",
     "text": [
      "Najcastejsi vek: 60.0\n"
     ]
    }
   ],
   "execution_count": 12
  },
  {
   "metadata": {},
   "cell_type": "markdown",
   "source": [
    "### Úloha 4 (1b)\n",
    "\n",
    "Pridajte do datasetu novú premennú s názvom `risk`, ktorá bude predstavovať riziko úmrtia pacienta po zlyhaní srdca. Táto premenná bude kategorická a bude obsahovať hodnoty 'Low' a 'High'. \n",
    "Premennú vytvorte na základe if-else rozhodovania podľa premenných 'age' a 'serum_creatinine':\n",
    "\n",
    "- Ak je vek pacienta väčší ako 50 a zároveň level kreatinínu v krvnom sére ('serum_creatinine') je väčší ako 1.2 mg/dL, tak hodnota premennej 'Risk' je 'High'.\n",
    "- V opačnom prípade je hodnota 'Low'\n",
    "\n",
    "Hint: môžete použiť metódu `apply` na vytvorenie novej premennej, v ktorej použijete lambda funkciu na definovanie podmienok."
   ],
   "id": "45eda56242826e34"
  },
  {
   "metadata": {
    "ExecuteTime": {
     "end_time": "2025-04-02T21:03:31.533704Z",
     "start_time": "2025-04-02T21:03:29.381152Z"
    }
   },
   "cell_type": "code",
   "source": [
    "import matplotlib.pyplot as plt\n",
    "# Add the 'risk' variable\n",
    "data['risk'] = data.apply(lambda row: 'High' if row['age'] > 50 and row['serum_creatinine'] > 1.2 else 'Low', axis=1)\n",
    "\n",
    "# Visualize high risk by age\n",
    "\n",
    "\n",
    "high_risk = data[data['risk'] == 'High']\n"
   ],
   "id": "7188f1a6042ef8a3",
   "outputs": [
    {
     "data": {
      "text/plain": [
       "<Figure size 640x480 with 1 Axes>"
      ],
      "image/png": "[encoded data removed]"
     },
     "metadata": {},
     "output_type": "display_data"
    }
   ],
   "execution_count": 13
  },
  {
   "metadata": {},
   "cell_type": "markdown",
   "source": [
    "Vizualizujte vysoké riziko úmrtia pre jednotlivé vekové skupiny histogramom:\n",
    "\n",
    "Hint: Použite metódu `hist` z knižnice `matplotlib.pyplot` na vizualizáciu distribúcie veku pre pacientov s vysokým rizikom úmrtia."
   ],
   "id": "5c11a45409c9977a"
  },
  {
   "metadata": {},
   "cell_type": "code",
   "source": [
    "plt.hist(high_risk['age'], bins='auto')\n",
    "plt.title('High Risk by Age')\n",
    "plt.xlabel('Age')\n",
    "plt.ylabel('Frequency')\n",
    "plt.show()"
   ],
   "id": "21d1661714154e7e",
   "outputs": [],
   "execution_count": null
  },
  {
   "metadata": {},
   "cell_type": "markdown",
   "source": "**V akom veku je riziko zlyhania srdca najväčšie?**",
   "id": "3961a830f8875251"
  },
  {
   "metadata": {
    "ExecuteTime": {
     "end_time": "2025-04-02T21:06:19.850970Z",
     "start_time": "2025-04-02T21:06:19.843161Z"
    }
   },
   "cell_type": "code",
   "source": [
    "riskiest_age = high_risk['age'].mode()[0]\n",
    "print(f\"Najriskantnejsi vek: {riskiest_age}\")"
   ],
   "id": "3de1dc7940681a9d",
   "outputs": [
    {
     "name": "stdout",
     "output_type": "stream",
     "text": [
      "Najriskantnejsie vek: 60.0\n"
     ]
    }
   ],
   "execution_count": 14
  },
  {
   "metadata": {},
   "cell_type": "markdown",
   "source": "**Koľko záznamov (približne) je v datasete v tejto vekovej kategórii?**",
   "id": "f224212fae842d2e"
  },
  {
   "metadata": {
    "ExecuteTime": {
     "end_time": "2025-04-02T21:11:39.095297Z",
     "start_time": "2025-04-02T21:11:39.089726Z"
    }
   },
   "cell_type": "code",
   "source": [
    "riskiest_count = (high_risk['age'] == riskiest_age).sum()\n",
    "print(riskiest_count)"
   ],
   "id": "f4f91091f3be8745",
   "outputs": [
    {
     "name": "stdout",
     "output_type": "stream",
     "text": [
      "18\n"
     ]
    }
   ],
   "execution_count": 19
  },
  {
   "metadata": {},
   "cell_type": "markdown",
   "source": [
    "### Úloha 5 (1b)\n",
    "\n",
    "Analyzujte koreláciu medzi všetkými atribútmi tohto datasetu (napr. vytvorením correlation plot)\n",
    "\n",
    "Hint: Nenumerické atribúty môžete pred vytvorením korelačnej matice odstrániť.\n"
   ],
   "id": "4b3a83530f79c11b"
  },
  {
   "metadata": {
    "ExecuteTime": {
     "end_time": "2025-04-02T21:16:31.957835Z",
     "start_time": "2025-04-02T21:16:31.949093Z"
    }
   },
   "cell_type": "code",
   "source": [
    "import matplotlib.pyplot as plt\n",
    "num_data = data.select_dtypes(include=['float64', 'int64'])\n",
    "\n",
    "corr_matrix = num_data.corr()"
   ],
   "id": "2aa5690bac0652c8",
   "outputs": [],
   "execution_count": 21
  },
  {
   "metadata": {},
   "cell_type": "markdown",
   "source": "**Ktoré atribúty majú medzi sebou najväčšiu zápornú koreláciu?** (uveďte prvé dve dvojice)",
   "id": "484640b067165eb7"
  },
  {
   "metadata": {
    "ExecuteTime": {
     "end_time": "2025-04-02T21:16:41.407761Z",
     "start_time": "2025-04-02T21:16:41.387844Z"
    }
   },
   "cell_type": "code",
   "source": [
    "corr_pairs = corr_matrix.unstack().sort_values(ascending=False)\n",
    "corr_pairs = corr_pairs[corr_pairs < 1]\n",
    "print(corr_pairs)"
   ],
   "id": "99d9ca9ab18ecd40",
   "outputs": [
    {
     "name": "stdout",
     "output_type": "stream",
     "text": [
      "sex                smoking              0.445892\n",
      "smoking            sex                  0.445892\n",
      "serum_creatinine   DEATH_EVENT          0.294278\n",
      "DEATH_EVENT        serum_creatinine     0.294278\n",
      "age                DEATH_EVENT          0.253729\n",
      "                                          ...   \n",
      "time               age                 -0.224068\n",
      "ejection_fraction  DEATH_EVENT         -0.268603\n",
      "DEATH_EVENT        ejection_fraction   -0.268603\n",
      "time               DEATH_EVENT         -0.526964\n",
      "DEATH_EVENT        time                -0.526964\n",
      "Length: 156, dtype: float64\n"
     ]
    }
   ],
   "execution_count": 23
  },
  {
   "metadata": {},
   "cell_type": "markdown",
   "source": "**Ktoré atribúty majú medzi sebou najväčšiu kladnú koreláciu?** (uveďte prvú dvojicu)",
   "id": "d47831b4b62d888"
  },
  {
   "metadata": {
    "ExecuteTime": {
     "end_time": "2025-04-02T21:17:52.525769Z",
     "start_time": "2025-04-02T21:17:52.518621Z"
    }
   },
   "cell_type": "code",
   "source": [
    "max_pos_corr = corr_pairs.head(1)\n",
    "max_neg_cor = corr_pairs.tail(1)\n",
    "\n",
    "print(max_pos_corr, max_neg_cor)"
   ],
   "id": "102cb58c30b211eb",
   "outputs": [
    {
     "name": "stdout",
     "output_type": "stream",
     "text": [
      "sex  smoking    0.445892\n",
      "dtype: float64 DEATH_EVENT  time   -0.526964\n",
      "dtype: float64\n"
     ]
    }
   ],
   "execution_count": 24
  },
  {
   "cell_type": "markdown",
   "id": "4afda479-3c32-4956-b59f-c53c450a42ba",
   "metadata": {},
   "source": [
    "----\n",
    "\n",
    "Viac informácií o zlyhaní srdca: https://www.nhlbi.nih.gov/health/heart-failure"
   ]
  }
 ],
 "metadata": {
  "kernelspec": {
   "display_name": "Python 3 (ipykernel)",
   "language": "python",
   "name": "python3"
  },
  "language_info": {
   "codemirror_mode": "r",
   "file_extension": ".r",
   "mimetype": "text/x-r-source",
   "name": "R",
   "pygments_lexer": "r",
   "version": "4.3.2"
  }
 },
 "nbformat": 4,
 "nbformat_minor": 5
}
