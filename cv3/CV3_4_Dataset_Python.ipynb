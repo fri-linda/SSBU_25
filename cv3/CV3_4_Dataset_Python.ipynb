{
 "cells": [
  {
   "metadata": {},
   "cell_type": "markdown",
   "source": [
    "# **SSBU CV3: Práca s datasetom v Pythone**\n",
    "\n",
    "Datasety z verejne dostupných databáz je možné získavať aj priamo z jazyka Python. Pre načítanie datasetu použijeme databázu Kaggle.\n",
    "\n",
    "---\n",
    "\n",
    "## **1. Inštalácia potrebných knižníc**\n",
    "Pre prácu s databázou **Kaggle** a jednoduché sťahovanie datasetov priamo z jazyka Python je vhodné nainštalovať knižnicu **kagglehub**.\n",
    "\n",
    "Pre prácu s dátami v tabuľkovej forme pomocou **DataFrame** je potrebné mať nainštalovanú knižnicu **pandas**.\n",
    "\n",
    "Pre vizualizáciu dát pomocou grafov je vhodné použiť knižnicu **matplotlib**.\n"
   ],
   "id": "41e8e1fee4f17808"
  },
  {
   "metadata": {},
   "cell_type": "code",
   "outputs": [],
   "execution_count": null,
   "source": "# pip install kagglehub pandas matplotlib",
   "id": "a0fbb805787271dc"
  },
  {
   "metadata": {},
   "cell_type": "markdown",
   "source": [
    "---\n",
    "\n",
    "## **2. Načítanie datasetu z databázy Kaggle**\n",
    "Použijeme dataset [**remote-work-and-mental-health**](https://www.kaggle.com/datasets/waqi786/remote-work-and-mental-health) dostupný v databáze [**Kaggle**](https://www.kaggle.com/). Dataset obsahuje informácie o vplyve práce na diaľku na duševné zdravie človeka.\n",
    "\n",
    "Dataset sa uloží na predvolenú lokalitu nastavenú knižnicou.\n"
   ],
   "id": "b5ebc85dfce7977f"
  },
  {
   "metadata": {},
   "cell_type": "code",
   "outputs": [],
   "execution_count": null,
   "source": [
    "import os\n",
    "import kagglehub\n",
    "\n",
    "# download the dataser\n",
    "dataset_path = kagglehub.dataset_download(\"waqi786/remote-work-and-mental-health\")\n",
    "\n",
    "print(\"Path:\", dataset_path)"
   ],
   "id": "275559a8662a4f4f"
  },
  {
   "metadata": {},
   "cell_type": "markdown",
   "source": [
    "---\n",
    "\n",
    "## **3. Načítanie datasetu do Pandas DataFrame**\n",
    "Dataset je vo formáte **CSV**, preto použijeme knižnicu **pandas** na jeho načítanie.\n",
    "\n",
    "Na spájanie ciest v súborovom systéme je dobré používať metódu join z knižnice os - [Dokumentácia os.path.join](https://docs.python.org/3/library/os.path.html#os.path.join). Knižnica je vhodnejšia ako spájanie premenných typu string, pretože dáva pozor na správne oddelenie ciest podľa operačného systému.\n",
    "\n",
    "Načítanie datasetu do **DataFrame** sa vykoná priamo pomocou funkcie `read_csv` z knižnice **pandas** - [Dokumentácia read_csv](https://pandas.pydata.org/pandas-docs/stable/reference/api/pandas.read_csv.html).\n",
    "\n",
    "Kontrola správneho mačítania datasetu sa vykoná pomocou metódy `head` - [Dokumentácia head](https://pandas.pydata.org/pandas-docs/stable/reference/api/pandas.DataFrame.head.html)\n",
    "\n"
   ],
   "id": "85406b6121113a78"
  },
  {
   "metadata": {},
   "cell_type": "code",
   "outputs": [],
   "execution_count": null,
   "source": [
    "import pandas as pd\n",
    "\n",
    "dataset_name = os.path.join(dataset_path, \"Impact_of_Remote_Work_on_Mental_Health.csv\")\n",
    "\n",
    "df = pd.read_csv(dataset_name)\n",
    "print(df.head())"
   ],
   "id": "88fb78013977af5"
  },
  {
   "metadata": {},
   "cell_type": "markdown",
   "source": "**Úloha:** Zobrazte posledných 10 riadkov datasetu - [Dokumentácia tail](https://pandas.pydata.org/pandas-docs/stable/reference/api/pandas.DataFrame.tail.html)\n",
   "id": "a225e4a4c550ceaf"
  },
  {
   "metadata": {},
   "cell_type": "code",
   "outputs": [],
   "execution_count": null,
   "source": "# TODO",
   "id": "86440fc7e3fe4fd9"
  },
  {
   "metadata": {},
   "cell_type": "markdown",
   "source": [
    "----\n",
    "\n",
    "## **4. Základná analýza datasetu**\n",
    "\n",
    "Po načítaní datasetu je vhodné vykonať základnú analýzu údajov, aby sme overili správne načítanie a získali prehľad o dátach.\n",
    "\n",
    "### **Zobrazenie základných štatistík**\n",
    "\n",
    "Zobrazenie základných štatistík o datasete pre stĺpce s číselnými hodnotami sa vykoná pomocou metódy `describe` - [Dokumentácia describe](https://pandas.pydata.org/pandas-docs/stable/reference/api/pandas.DataFrame.describe.html)\n"
   ],
   "id": "70d21e8ed3bc1824"
  },
  {
   "metadata": {},
   "cell_type": "code",
   "outputs": [],
   "execution_count": null,
   "source": "print(df.describe())",
   "id": "6fbd16bb0d93c45b"
  },
  {
   "metadata": {},
   "cell_type": "markdown",
   "source": "Zobrazenie základných štatistík o datasete pre všetky stĺpce sa vykoná pomocou metódy `info` - [Dokumentácia info](https://pandas.pydata.org/pandas-docs/stable/reference/api/pandas.DataFrame.info.html)",
   "id": "6a48c58824e10eec"
  },
  {
   "metadata": {},
   "cell_type": "code",
   "outputs": [],
   "execution_count": null,
   "source": "print(df.info())",
   "id": "9d78208cbe89a1"
  },
  {
   "metadata": {},
   "cell_type": "markdown",
   "source": "**Úloha:** Skúste vypočítať medián pre všetky číselné stĺpce. Použite metódu median - [Dokumentácia median](https://pandas.pydata.org/pandas-docs/stable/reference/api/pandas.DataFrame.median.html). Je potrebné zvoliť iba číselné stĺpce.",
   "id": "3b641da2cb448784"
  },
  {
   "metadata": {},
   "cell_type": "code",
   "outputs": [],
   "execution_count": null,
   "source": "# TODO",
   "id": "f6b34e73a5b44bd8"
  },
  {
   "metadata": {},
   "cell_type": "markdown",
   "source": [
    "### **Kontrola chýbajúcich údajov**\n",
    "\n",
    "Na kontrolu chýbajúcich údajov sa používa metóda `isnull` - [Dokumentácia isnull](https://pandas.pydata.org/pandas-docs/stable/reference/api/pandas.DataFrame.isnull.html).\n",
    "Táto metóda vráti hodnotu **True** pre každý riadok, ktorý obsahuje chýbajúce hodnoty.\n",
    "\n",
    "Metóda `sum` vráti počet chýbajúcich hodnôt pre každý stĺpec - [Dokumentácia sum](https://pandas.pydata.org/pandas-docs/stable/reference/api/pandas.DataFrame.sum.html)"
   ],
   "id": "d23853c994054554"
  },
  {
   "metadata": {},
   "cell_type": "code",
   "outputs": [],
   "execution_count": null,
   "source": "print(df.isnull().sum())",
   "id": "26d0ffc55ce4e84f"
  },
  {
   "metadata": {},
   "cell_type": "markdown",
   "source": "**Úloha:** Skúste odstrániť všetky riadky s chýbajúcimi hodnotami pomocou met=ody `dropna`- [Dokumentácia dropna](https://pandas.pydata.org/pandas-docs/stable/reference/api/pandas.DataFrame.dropna.html) Výsledok operácie uložte do premennej `clean_df`.",
   "id": "d8a3bcb37149d312"
  },
  {
   "metadata": {},
   "cell_type": "code",
   "outputs": [],
   "execution_count": null,
   "source": [
    "# TODO\n",
    "clean_df = df.dropna()\n",
    "print(clean_df.isnull().sum())"
   ],
   "id": "67458bb6aaee7c95"
  },
  {
   "metadata": {},
   "cell_type": "markdown",
   "source": [
    "### **Najčastejšie regióny v údajoch**\n",
    "\n",
    "Práca s konkrétnym stĺpcom sa vykonáva pomocou zápisu `názov_dataframe[\"názov_stĺpca\"]`. Pozor na veľké a malé písmená.\n",
    "\n",
    "Na zistenie najčastejšie sa vyskytujúcich hodnôt v stĺpci sa používa metóda `value_counts` - [Dokumentácia value_counts](https://pandas.pydata.org/pandas-docs/stable/reference/api/pandas.Series.value_counts.html). Táto metóda vráti počet výskytov pre každú hodnotu v stĺpci.\n"
   ],
   "id": "b84bbfda689d38bd"
  },
  {
   "metadata": {},
   "cell_type": "code",
   "outputs": [],
   "execution_count": null,
   "source": "print(df[\"Region\"].value_counts())",
   "id": "5d731bd581471e22"
  },
  {
   "metadata": {},
   "cell_type": "markdown",
   "source": "**Úloha:** Zobrazte 5 najčastejšie sa vyskytujúcich fyzických aktivít. Použite kombináciu metód `value_counts` a `head`.",
   "id": "8c0bc76339ada4f8"
  },
  {
   "metadata": {},
   "cell_type": "code",
   "outputs": [],
   "execution_count": null,
   "source": "# TODO",
   "id": "f85c4a012bc286d1"
  },
  {
   "metadata": {},
   "cell_type": "markdown",
   "source": [
    "### **Počet odpracovaných hodín za týždeň**\n",
    "\n",
    "Na zistenie počtu sa použije metóda `value_counts` - [Dokumentácia value_counts](https://pandas.pydata.org/pandas-docs/stable/reference/api/pandas.Series.value_counts.html).\n",
    "\n",
    "Pre zoradenie hodnôt podľa indexu sa použije metóda `sort_index` - [Dokumentácia sort_index](https://pandas.pydata.org/pandas-docs/stable/reference/api/pandas.DataFrame.sort_index.html)."
   ],
   "id": "f9e8bacddd6b6692"
  },
  {
   "metadata": {},
   "cell_type": "code",
   "outputs": [],
   "execution_count": null,
   "source": "print(df[\"Hours_Worked_Per_Week\"].value_counts().sort_index())",
   "id": "42ef4b9a501ac0e6"
  },
  {
   "metadata": {},
   "cell_type": "markdown",
   "source": "**Úloha:** Zoraďte počet odpracovaných hodín zostupne. Použite metódu `sort_values` - [Dokumentácia sort_values()](https://pandas.pydata.org/pandas-docs/stable/reference/api/pandas.DataFrame.sort_values.html), ktorá zoradí hodnoty podľa počtu výskytov.",
   "id": "b1db28d5513c190"
  },
  {
   "metadata": {},
   "cell_type": "code",
   "outputs": [],
   "execution_count": null,
   "source": "# TODO",
   "id": "6c3c5526870cb5be"
  },
  {
   "metadata": {},
   "cell_type": "markdown",
   "source": [
    "---\n",
    "\n",
    "## **5. Vizualizácia údajov**\n",
    "\n",
    "Na vizualizáciu využijeme knižnicu **matplotlib**. Táto knižnica umožňuje vytvárať rôzne typy grafov a vizualizácií.\n",
    "\n",
    "Metóda `figure` umožňuje nastaviť veľkosť grafu - [Dokumentácia figure](https://matplotlib.org/stable/api/_as_gen/matplotlib.pyplot.figure.html).\n",
    "\n",
    "Metóda `plot` umožňuje vytvárať rôzne typy grafov - [Dokumentácia plot](https://pandas.pydata.org/pandas-docs/stable/reference/api/pandas.DataFrame.plot.html).\n",
    "\n",
    "Súčasti grafu (názvy osí, titulok) sa nastavujú pomocou metód `xlabel`, `ylabel`, `title` - [Dokumentácia xlabel](https://matplotlib.org/stable/api/_as_gen/matplotlib.pyplot.xlabel.html), [Dokumentácia ylabel](https://matplotlib.org/stable/api/_as_gen/matplotlib.pyplot.ylabel.html), [Dokumentácia title](https://matplotlib.org/stable/api/_as_gen/matplotlib.pyplot.title.html), a ďalších.\n",
    "\n",
    "Pre zobrazenie grafov je potrebné použiť metódu `show` - [Dokumentácia show](https://matplotlib.org/stable/api/_as_gen/matplotlib.pyplot.show.html).\n"
   ],
   "id": "57d59829e849a424"
  },
  {
   "metadata": {},
   "cell_type": "code",
   "outputs": [],
   "execution_count": null,
   "source": [
    "import matplotlib.pyplot as plt\n",
    "\n",
    "plt.figure(figsize=(10, 5))\n",
    "df[\"Mental_Health_Condition\"].value_counts().head(10).plot(kind='bar')\n",
    "\n",
    "plt.title(\"Najčastejšie zdravotné stavy\")\n",
    "plt.xlabel(\"Zdravotný stav\")\n",
    "plt.ylabel(\"Počet záznamov\")\n",
    "plt.show()"
   ],
   "id": "60072e874144b0d2"
  },
  {
   "metadata": {},
   "cell_type": "markdown",
   "source": "**Úloha:** Vytvorte koláčový graf pre rôzne pracovné pozície a nastavte mu názov.",
   "id": "f8063019c2de5132"
  },
  {
   "metadata": {},
   "cell_type": "code",
   "outputs": [],
   "execution_count": null,
   "source": [
    "# TODO\n",
    "\n",
    "df[\"Job_Role\"].value_counts().head(10).plot(kind='pie')\n",
    "\n",
    "plt.title(\"Job Roles\")\n",
    "\n",
    "plt.show()"
   ],
   "id": "e290da1a54bb0703"
  },
  {
   "metadata": {},
   "cell_type": "markdown",
   "source": [
    "**Úloha:** Vytvorte horizontálny čiarový graf pre rôzne levely stresu na pozícii Software Engineer.\n",
    "\n",
    "Hint:\n",
    "Najskôr vyfiltrujte v DataFrame záznamy pre pozíciu Software Engineer a potom zistite počet záznamov pre jednotlivé levely stresu.\n",
    "Filtrovanie sa vykoná pomocou zápisu `df[df[\"stĺpec\"] == \"hodnota\"]`.\n"
   ],
   "id": "e442b77223096ff7"
  },
  {
   "metadata": {},
   "cell_type": "code",
   "outputs": [],
   "execution_count": null,
   "source": "# TODO",
   "id": "4b33c3fcfc51cf1c"
  },
  {
   "metadata": {},
   "cell_type": "markdown",
   "source": [
    "---\n",
    "\n",
    "#### Ďalšie príklady spracovania tohto datasetu\n",
    "\n",
    "https://www.kaggle.com/code/waqi786/remote-work-mental-health-eda\n",
    "\n",
    "https://www.kaggle.com/code/pavankumar4757/remote-work-mental-health-analysis\n",
    "\n",
    "https://www.kaggle.com/code/saifsalama/remote-work-mental-health-eda"
   ],
   "id": "13ec9555894feca3"
  }
 ],
 "metadata": {
  "kernelspec": {
   "display_name": "Python 3",
   "language": "python",
   "name": "python3"
  },
  "language_info": {
   "codemirror_mode": {
    "name": "ipython",
    "version": 2
   },
   "file_extension": ".py",
   "mimetype": "text/x-python",
   "name": "python",
   "nbconvert_exporter": "python",
   "pygments_lexer": "ipython2",
   "version": "2.7.6"
  }
 },
 "nbformat": 4,
 "nbformat_minor": 5
}
