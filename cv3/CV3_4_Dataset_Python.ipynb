{
 "cells": [
  {
   "metadata": {},
   "cell_type": "markdown",
   "source": [
    "# **SSBU CV3: Práca s datasetom v Pythone**\n",
    "\n",
    "Datasety z verejne dostupných databáz je možné získavať aj priamo z jazyka Python. Pre načítanie datasetu použijeme databázu Kaggle.\n",
    "\n",
    "---\n",
    "\n",
    "## **1. Inštalácia potrebných knižníc**\n",
    "Pre prácu s databázou **Kaggle** a jednoduché sťahovanie datasetov priamo z jazyka Python je vhodné nainštalovať knižnicu **kagglehub**.\n",
    "\n",
    "Pre prácu s dátami v tabuľkovej forme pomocou **DataFrame** je potrebné mať nainštalovanú knižnicu **pandas**.\n",
    "\n",
    "Pre vizualizáciu dát pomocou grafov je vhodné použiť knižnicu **matplotlib**.\n"
   ],
   "id": "8b451469998e80f6"
  },
  {
   "metadata": {
    "ExecuteTime": {
     "end_time": "2025-03-06T08:14:18.015115Z",
     "start_time": "2025-03-06T08:14:18.012240Z"
    }
   },
   "cell_type": "code",
   "source": "# pip install kagglehub pandas matplotlib",
   "id": "c3857a6d95fd5038",
   "outputs": [],
   "execution_count": 4
  },
  {
   "metadata": {},
   "cell_type": "markdown",
   "source": [
    "---\n",
    "\n",
    "## **2. Načítanie datasetu z databázy Kaggle**\n",
    "Použijeme dataset [**remote-work-and-mental-health**](https://www.kaggle.com/datasets/waqi786/remote-work-and-mental-health) dostupný v databáze [**Kaggle**](https://www.kaggle.com/). Dataset obsahuje informácie o vplyve práce na diaľku na duševné zdravie človeka.\n",
    "\n",
    "Dataset sa uloží na predvolenú lokalitu nastavenú knižnicou.\n"
   ],
   "id": "e507af774d6456c0"
  },
  {
   "metadata": {
    "ExecuteTime": {
     "end_time": "2025-03-06T08:14:21.971200Z",
     "start_time": "2025-03-06T08:14:21.260844Z"
    }
   },
   "cell_type": "code",
   "source": [
    "import os\n",
    "import kagglehub\n",
    "\n",
    "# download the dataser\n",
    "dataset_path = kagglehub.dataset_download(\"waqi786/remote-work-and-mental-health\")\n",
    "\n",
    "print(\"Path:\", dataset_path)"
   ],
   "id": "f24228ed27c734ff",
   "outputs": [
    {
     "name": "stdout",
     "output_type": "stream",
     "text": [
      "Path: /Users/simonkoumekbuk/.cache/kagglehub/datasets/waqi786/remote-work-and-mental-health/versions/1\n"
     ]
    }
   ],
   "execution_count": 5
  },
  {
   "metadata": {},
   "cell_type": "markdown",
   "source": [
    "---\n",
    "\n",
    "## **3. Načítanie datasetu do Pandas DataFrame**\n",
    "Dataset je vo formáte **CSV**, preto použijeme knižnicu **pandas** na jeho načítanie.\n",
    "\n",
    "Na spájanie ciest v súborovom systéme je dobré používať metódu join z knižnice os - [Dokumentácia os.path.join](https://docs.python.org/3/library/os.path.html#os.path.join). Knižnica je vhodnejšia ako spájanie premenných typu string, pretože dáva pozor na správne oddelenie ciest podľa operačného systému.\n",
    "\n",
    "Načítanie datasetu do **DataFrame** sa vykoná priamo pomocou funkcie `read_csv` z knižnice **pandas** - [Dokumentácia read_csv](https://pandas.pydata.org/pandas-docs/stable/reference/api/pandas.read_csv.html).\n",
    "\n",
    "Kontrola správneho mačítania datasetu sa vykoná pomocou metódy `head` - [Dokumentácia head](https://pandas.pydata.org/pandas-docs/stable/reference/api/pandas.DataFrame.head.html)\n",
    "\n"
   ],
   "id": "df363e975335a1a4"
  },
  {
   "metadata": {
    "ExecuteTime": {
     "end_time": "2025-03-06T08:14:32.479280Z",
     "start_time": "2025-03-06T08:14:32.462537Z"
    }
   },
   "cell_type": "code",
   "source": [
    "import pandas as pd\n",
    "\n",
    "dataset_name = os.path.join(dataset_path, \"Impact_of_Remote_Work_on_Mental_Health.csv\")\n",
    "\n",
    "df = pd.read_csv(dataset_name)\n",
    "print(df.head())"
   ],
   "id": "5dbd60e8324a0d67",
   "outputs": [
    {
     "name": "stdout",
     "output_type": "stream",
     "text": [
      "  Employee_ID  Age      Gender           Job_Role    Industry  \\\n",
      "0     EMP0001   32  Non-binary                 HR  Healthcare   \n",
      "1     EMP0002   40      Female     Data Scientist          IT   \n",
      "2     EMP0003   59  Non-binary  Software Engineer   Education   \n",
      "3     EMP0004   27        Male  Software Engineer     Finance   \n",
      "4     EMP0005   49        Male              Sales  Consulting   \n",
      "\n",
      "   Years_of_Experience Work_Location  Hours_Worked_Per_Week  \\\n",
      "0                   13        Hybrid                     47   \n",
      "1                    3        Remote                     52   \n",
      "2                   22        Hybrid                     46   \n",
      "3                   20        Onsite                     32   \n",
      "4                   32        Onsite                     35   \n",
      "\n",
      "   Number_of_Virtual_Meetings  Work_Life_Balance_Rating Stress_Level  \\\n",
      "0                           7                         2       Medium   \n",
      "1                           4                         1       Medium   \n",
      "2                          11                         5       Medium   \n",
      "3                           8                         4         High   \n",
      "4                          12                         2         High   \n",
      "\n",
      "  Mental_Health_Condition Access_to_Mental_Health_Resources  \\\n",
      "0              Depression                                No   \n",
      "1                 Anxiety                                No   \n",
      "2                 Anxiety                                No   \n",
      "3              Depression                               Yes   \n",
      "4                     NaN                               Yes   \n",
      "\n",
      "  Productivity_Change  Social_Isolation_Rating Satisfaction_with_Remote_Work  \\\n",
      "0            Decrease                        1                   Unsatisfied   \n",
      "1            Increase                        3                     Satisfied   \n",
      "2           No Change                        4                   Unsatisfied   \n",
      "3            Increase                        3                   Unsatisfied   \n",
      "4            Decrease                        3                   Unsatisfied   \n",
      "\n",
      "   Company_Support_for_Remote_Work Physical_Activity Sleep_Quality  \\\n",
      "0                                1            Weekly          Good   \n",
      "1                                2            Weekly          Good   \n",
      "2                                5               NaN          Poor   \n",
      "3                                3               NaN          Poor   \n",
      "4                                3            Weekly       Average   \n",
      "\n",
      "          Region  \n",
      "0         Europe  \n",
      "1           Asia  \n",
      "2  North America  \n",
      "3         Europe  \n",
      "4  North America  \n"
     ]
    }
   ],
   "execution_count": 7
  },
  {
   "metadata": {},
   "cell_type": "markdown",
   "source": "**Úloha:** Zobrazte posledných 10 riadkov datasetu - [Dokumentácia tail](https://pandas.pydata.org/pandas-docs/stable/reference/api/pandas.DataFrame.tail.html)\n",
   "id": "ce8d22d28c1eef5c"
  },
  {
   "metadata": {},
   "cell_type": "code",
   "source": "# TODO",
   "id": "f75705e447380efd",
   "outputs": [],
   "execution_count": null
  },
  {
   "metadata": {},
   "cell_type": "markdown",
   "source": [
    "----\n",
    "\n",
    "## **4. Základná analýza datasetu**\n",
    "\n",
    "Po načítaní datasetu je vhodné vykonať základnú analýzu údajov, aby sme overili správne načítanie a získali prehľad o dátach.\n",
    "\n",
    "### **Zobrazenie základných štatistík**\n",
    "\n",
    "Zobrazenie základných štatistík o datasete pre stĺpce s číselnými hodnotami sa vykoná pomocou metódy `describe` - [Dokumentácia describe](https://pandas.pydata.org/pandas-docs/stable/reference/api/pandas.DataFrame.describe.html)\n"
   ],
   "id": "29ce2004ddf752ea"
  },
  {
   "metadata": {
    "ExecuteTime": {
     "end_time": "2025-03-06T08:14:37.755573Z",
     "start_time": "2025-03-06T08:14:37.744204Z"
    }
   },
   "cell_type": "code",
   "source": "print(df.describe())",
   "id": "7079cbe3405b46a3",
   "outputs": [
    {
     "name": "stdout",
     "output_type": "stream",
     "text": [
      "               Age  Years_of_Experience  Hours_Worked_Per_Week  \\\n",
      "count  5000.000000          5000.000000            5000.000000   \n",
      "mean     40.995000            17.810200              39.614600   \n",
      "std      11.296021            10.020412              11.860194   \n",
      "min      22.000000             1.000000              20.000000   \n",
      "25%      31.000000             9.000000              29.000000   \n",
      "50%      41.000000            18.000000              40.000000   \n",
      "75%      51.000000            26.000000              50.000000   \n",
      "max      60.000000            35.000000              60.000000   \n",
      "\n",
      "       Number_of_Virtual_Meetings  Work_Life_Balance_Rating  \\\n",
      "count                 5000.000000               5000.000000   \n",
      "mean                     7.559000                  2.984200   \n",
      "std                      4.636121                  1.410513   \n",
      "min                      0.000000                  1.000000   \n",
      "25%                      4.000000                  2.000000   \n",
      "50%                      8.000000                  3.000000   \n",
      "75%                     12.000000                  4.000000   \n",
      "max                     15.000000                  5.000000   \n",
      "\n",
      "       Social_Isolation_Rating  Company_Support_for_Remote_Work  \n",
      "count              5000.000000                      5000.000000  \n",
      "mean                  2.993800                         3.007800  \n",
      "std                   1.394615                         1.399046  \n",
      "min                   1.000000                         1.000000  \n",
      "25%                   2.000000                         2.000000  \n",
      "50%                   3.000000                         3.000000  \n",
      "75%                   4.000000                         4.000000  \n",
      "max                   5.000000                         5.000000  \n"
     ]
    }
   ],
   "execution_count": 8
  },
  {
   "metadata": {},
   "cell_type": "markdown",
   "source": "Zobrazenie základných štatistík o datasete pre všetky stĺpce sa vykoná pomocou metódy `info` - [Dokumentácia info](https://pandas.pydata.org/pandas-docs/stable/reference/api/pandas.DataFrame.info.html)",
   "id": "109794b4e05848a1"
  },
  {
   "metadata": {},
   "cell_type": "code",
   "source": "print(df.info())",
   "id": "904cc551c7d0e773",
   "outputs": [],
   "execution_count": null
  },
  {
   "metadata": {},
   "cell_type": "markdown",
   "source": "**Úloha:** Skúste vypočítať medián pre všetky číselné stĺpce. Použite metódu median - [Dokumentácia median](https://pandas.pydata.org/pandas-docs/stable/reference/api/pandas.DataFrame.median.html). Je potrebné zvoliť iba číselné stĺpce.",
   "id": "603ce2b42723011b"
  },
  {
   "metadata": {},
   "cell_type": "code",
   "source": "# TODO",
   "id": "f6ebf5e680f616a3",
   "outputs": [],
   "execution_count": null
  },
  {
   "metadata": {},
   "cell_type": "markdown",
   "source": [
    "### **Kontrola chýbajúcich údajov**\n",
    "\n",
    "Na kontrolu chýbajúcich údajov sa používa metóda `isnull` - [Dokumentácia isnull](https://pandas.pydata.org/pandas-docs/stable/reference/api/pandas.DataFrame.isnull.html).\n",
    "Táto metóda vráti hodnotu **True** pre každý riadok, ktorý obsahuje chýbajúce hodnoty.\n",
    "\n",
    "Metóda `sum` vráti počet chýbajúcich hodnôt pre každý stĺpec - [Dokumentácia sum](https://pandas.pydata.org/pandas-docs/stable/reference/api/pandas.DataFrame.sum.html)"
   ],
   "id": "7ed64ea39c3087f1"
  },
  {
   "metadata": {},
   "cell_type": "code",
   "source": "print(df.isnull().sum())",
   "id": "141beda6dad5b137",
   "outputs": [],
   "execution_count": null
  },
  {
   "metadata": {},
   "cell_type": "markdown",
   "source": "**Úloha:** Skúste odstrániť všetky riadky s chýbajúcimi hodnotami pomocou met=ody `dropna`- [Dokumentácia dropna](https://pandas.pydata.org/pandas-docs/stable/reference/api/pandas.DataFrame.dropna.html) Výsledok operácie uložte do premennej `clean_df`.",
   "id": "989151b94207863a"
  },
  {
   "metadata": {},
   "cell_type": "code",
   "source": "# TODO",
   "id": "5f0929a570524cf8",
   "outputs": [],
   "execution_count": null
  },
  {
   "metadata": {},
   "cell_type": "markdown",
   "source": [
    "### **Najčastejšie regióny v údajoch**\n",
    "\n",
    "Práca s konkrétnym stĺpcom sa vykonáva pomocou zápisu `názov_dataframe[\"názov_stĺpca\"]`. Pozor na veľké a malé písmená.\n",
    "\n",
    "Na zistenie najčastejšie sa vyskytujúcich hodnôt v stĺpci sa používa metóda `value_counts` - [Dokumentácia value_counts](https://pandas.pydata.org/pandas-docs/stable/reference/api/pandas.Series.value_counts.html). Táto metóda vráti počet výskytov pre každú hodnotu v stĺpci.\n"
   ],
   "id": "71de024e0ac06f8d"
  },
  {
   "metadata": {
    "ExecuteTime": {
     "end_time": "2025-03-06T08:24:33.544081Z",
     "start_time": "2025-03-06T08:24:33.538140Z"
    }
   },
   "cell_type": "code",
   "source": "print(df[\"Region\"].value_counts())",
   "id": "6a6805ec8daa3f60",
   "outputs": [
    {
     "name": "stdout",
     "output_type": "stream",
     "text": [
      "Region\n",
      "Oceania          867\n",
      "Africa           860\n",
      "Europe           840\n",
      "Asia             829\n",
      "South America    827\n",
      "North America    777\n",
      "Name: count, dtype: int64\n"
     ]
    }
   ],
   "execution_count": 9
  },
  {
   "metadata": {},
   "cell_type": "markdown",
   "source": "**Úloha:** Zobrazte 5 najčastejšie sa vyskytujúcich fyzických aktivít. Použite kombináciu metód `value_counts` a `head`.",
   "id": "1c78079f2dfe7fd8"
  },
  {
   "metadata": {
    "ExecuteTime": {
     "end_time": "2025-03-06T08:25:34.643777Z",
     "start_time": "2025-03-06T08:25:34.639475Z"
    }
   },
   "cell_type": "code",
   "source": "print(df[\"Region\"].value_counts().head(5))",
   "id": "57c3a79a71b64d30",
   "outputs": [
    {
     "name": "stdout",
     "output_type": "stream",
     "text": [
      "Region\n",
      "Oceania          867\n",
      "Africa           860\n",
      "Europe           840\n",
      "Asia             829\n",
      "South America    827\n",
      "Name: count, dtype: int64\n"
     ]
    }
   ],
   "execution_count": 11
  },
  {
   "metadata": {},
   "cell_type": "markdown",
   "source": [
    "### **Počet odpracovaných hodín za týždeň**\n",
    "\n",
    "Na zistenie počtu sa použije metóda `value_counts` - [Dokumentácia value_counts](https://pandas.pydata.org/pandas-docs/stable/reference/api/pandas.Series.value_counts.html).\n",
    "\n",
    "Pre zoradenie hodnôt podľa indexu sa použije metóda `sort_index` - [Dokumentácia sort_index](https://pandas.pydata.org/pandas-docs/stable/reference/api/pandas.DataFrame.sort_index.html)."
   ],
   "id": "cc08578f1600c66a"
  },
  {
   "metadata": {
    "ExecuteTime": {
     "end_time": "2025-03-06T08:24:51.897328Z",
     "start_time": "2025-03-06T08:24:51.891129Z"
    }
   },
   "cell_type": "code",
   "source": "print(df[\"Hours_Worked_Per_Week\"].value_counts().sort_index())",
   "id": "9f9156a5f76385a6",
   "outputs": [
    {
     "name": "stdout",
     "output_type": "stream",
     "text": [
      "Hours_Worked_Per_Week\n",
      "20    137\n",
      "21    121\n",
      "22    142\n",
      "23    128\n",
      "24    125\n",
      "25    129\n",
      "26    112\n",
      "27    127\n",
      "28    149\n",
      "29    113\n",
      "30    108\n",
      "31    122\n",
      "32    136\n",
      "33    135\n",
      "34    113\n",
      "35    122\n",
      "36    128\n",
      "37    116\n",
      "38    112\n",
      "39    121\n",
      "40    120\n",
      "41    133\n",
      "42    120\n",
      "43    115\n",
      "44    119\n",
      "45    125\n",
      "46    121\n",
      "47    119\n",
      "48    123\n",
      "49    129\n",
      "50    120\n",
      "51    104\n",
      "52    111\n",
      "53    127\n",
      "54    119\n",
      "55    115\n",
      "56    122\n",
      "57    123\n",
      "58    104\n",
      "59    123\n",
      "60    112\n",
      "Name: count, dtype: int64\n"
     ]
    }
   ],
   "execution_count": 10
  },
  {
   "metadata": {},
   "cell_type": "markdown",
   "source": "**Úloha:** Zoraďte počet odpracovaných hodín zostupne. Použite metódu `sort_values` - [Dokumentácia sort_values()](https://pandas.pydata.org/pandas-docs/stable/reference/api/pandas.DataFrame.sort_values.html), ktorá zoradí hodnoty podľa počtu výskytov.",
   "id": "dde18c8559da26e6"
  },
  {
   "metadata": {
    "ExecuteTime": {
     "end_time": "2025-03-06T08:26:15.370687Z",
     "start_time": "2025-03-06T08:26:15.366394Z"
    }
   },
   "cell_type": "code",
   "source": "print(df[\"Hours_Worked_Per_Week\"].value_counts().sort_index().sort_values())",
   "id": "568022f579e5204b",
   "outputs": [
    {
     "name": "stdout",
     "output_type": "stream",
     "text": [
      "Hours_Worked_Per_Week\n",
      "58    104\n",
      "51    104\n",
      "30    108\n",
      "52    111\n",
      "60    112\n",
      "26    112\n",
      "38    112\n",
      "34    113\n",
      "29    113\n",
      "55    115\n",
      "43    115\n",
      "37    116\n",
      "54    119\n",
      "44    119\n",
      "47    119\n",
      "50    120\n",
      "42    120\n",
      "40    120\n",
      "39    121\n",
      "21    121\n",
      "46    121\n",
      "35    122\n",
      "56    122\n",
      "31    122\n",
      "59    123\n",
      "57    123\n",
      "48    123\n",
      "45    125\n",
      "24    125\n",
      "27    127\n",
      "53    127\n",
      "23    128\n",
      "36    128\n",
      "49    129\n",
      "25    129\n",
      "41    133\n",
      "33    135\n",
      "32    136\n",
      "20    137\n",
      "22    142\n",
      "28    149\n",
      "Name: count, dtype: int64\n"
     ]
    }
   ],
   "execution_count": 13
  },
  {
   "metadata": {},
   "cell_type": "markdown",
   "source": [
    "---\n",
    "\n",
    "## **5. Vizualizácia údajov**\n",
    "\n",
    "Na vizualizáciu využijeme knižnicu **matplotlib**. Táto knižnica umožňuje vytvárať rôzne typy grafov a vizualizácií.\n",
    "\n",
    "Metóda `figure` umožňuje nastaviť veľkosť grafu - [Dokumentácia figure](https://matplotlib.org/stable/api/_as_gen/matplotlib.pyplot.figure.html).\n",
    "\n",
    "Metóda `plot` umožňuje vytvárať rôzne typy grafov - [Dokumentácia plot](https://pandas.pydata.org/pandas-docs/stable/reference/api/pandas.DataFrame.plot.html).\n",
    "\n",
    "Súčasti grafu (názvy osí, titulok) sa nastavujú pomocou metód `xlabel`, `ylabel`, `title` - [Dokumentácia xlabel](https://matplotlib.org/stable/api/_as_gen/matplotlib.pyplot.xlabel.html), [Dokumentácia ylabel](https://matplotlib.org/stable/api/_as_gen/matplotlib.pyplot.ylabel.html), [Dokumentácia title](https://matplotlib.org/stable/api/_as_gen/matplotlib.pyplot.title.html), a ďalších.\n",
    "\n",
    "Pre zobrazenie grafov je potrebné použiť metódu `show` - [Dokumentácia show](https://matplotlib.org/stable/api/_as_gen/matplotlib.pyplot.show.html).\n"
   ],
   "id": "935c29a8e874304"
  },
  {
   "metadata": {
    "ExecuteTime": {
     "end_time": "2025-03-06T08:29:07.275064Z",
     "start_time": "2025-03-06T08:29:06.666179Z"
    }
   },
   "cell_type": "code",
   "source": [
    "import matplotlib.pyplot as plt\n",
    "\n",
    "plt.figure(figsize=(10, 5))\n",
    "df[\"Mental_Health_Condition\"].value_counts().head(10).plot(kind='bar')\n",
    "\n",
    "plt.title(\"Najčastejšie zdravotné stavy\")\n",
    "plt.xlabel(\"Zdravotný stav\")\n",
    "plt.ylabel(\"Počet záznamov\")\n",
    "plt.show()"
   ],
   "id": "b4bf29958c80c987",
   "outputs": [
    {
     "data": {
      "text/plain": [
       "<Figure size 1000x500 with 1 Axes>"
      ],
      "image/png": "[encoded data removed]"
     },
     "metadata": {},
     "output_type": "display_data"
    }
   ],
   "execution_count": 14
  },
  {
   "metadata": {},
   "cell_type": "markdown",
   "source": "**Úloha:** Vytvorte koláčový graf pre rôzne pracovné pozície a nastavte mu názov.",
   "id": "28c607ea14f0c54e"
  },
  {
   "metadata": {
    "ExecuteTime": {
     "end_time": "2025-03-06T08:30:09.514424Z",
     "start_time": "2025-03-06T08:30:09.447682Z"
    }
   },
   "cell_type": "code",
   "source": [
    "df[\"Job_Role\"].value_counts().plot(kind='pie')\n",
    "\n",
    "plt.title(\"Pracovné pozície\")\n",
    "plt.show()"
   ],
   "id": "b91d5048227d6348",
   "outputs": [
    {
     "data": {
      "text/plain": [
       "<Figure size 640x480 with 1 Axes>"
      ],
      "image/png": "[encoded data removed]"
     },
     "metadata": {},
     "output_type": "display_data"
    }
   ],
   "execution_count": 16
  },
  {
   "metadata": {},
   "cell_type": "markdown",
   "source": [
    "**Úloha:** Vytvorte horizontálny čiarový graf pre rôzne levely stresu na pozícii Software Engineer.\n",
    "\n",
    "Hint:\n",
    "Najskôr vyfiltrujte v DataFrame záznamy pre pozíciu Software Engineer a potom zistite počet záznamov pre jednotlivé levely stresu.\n",
    "Filtrovanie sa vykoná pomocou zápisu `df[df[\"stĺpec\"] == \"hodnota\"]`.\n"
   ],
   "id": "f0a1844c919b5069"
  },
  {
   "metadata": {},
   "cell_type": "code",
   "source": "# TODO",
   "id": "3f0ca40d983dd8ce",
   "outputs": [],
   "execution_count": null
  },
  {
   "metadata": {},
   "cell_type": "markdown",
   "source": [
    "---\n",
    "\n",
    "#### Ďalšie príklady spracovania tohto datasetu\n",
    "\n",
    "https://www.kaggle.com/code/waqi786/remote-work-mental-health-eda\n",
    "\n",
    "https://www.kaggle.com/code/pavankumar4757/remote-work-mental-health-analysis\n",
    "\n",
    "https://www.kaggle.com/code/saifsalama/remote-work-mental-health-eda"
   ],
   "id": "9bed3bd513a6fdbe"
  }
 ],
 "metadata": {
  "kernelspec": {
   "display_name": "Python 3",
   "language": "python",
   "name": "python3"
  },
  "language_info": {
   "codemirror_mode": {
    "name": "ipython",
    "version": 2
   },
   "file_extension": ".py",
   "mimetype": "text/x-python",
   "name": "python",
   "nbconvert_exporter": "python",
   "pygments_lexer": "ipython2",
   "version": "2.7.6"
  }
 },
 "nbformat": 4,
 "nbformat_minor": 5
}
